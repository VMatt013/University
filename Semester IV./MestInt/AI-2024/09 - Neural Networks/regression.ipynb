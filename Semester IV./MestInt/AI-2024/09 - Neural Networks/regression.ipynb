{
  "cells": [
    {
      "cell_type": "code",
      "execution_count": 1,
      "metadata": {},
      "outputs": [
        {
          "data": {
            "text/html": [
              "<div>\n",
              "<style scoped>\n",
              "    .dataframe tbody tr th:only-of-type {\n",
              "        vertical-align: middle;\n",
              "    }\n",
              "\n",
              "    .dataframe tbody tr th {\n",
              "        vertical-align: top;\n",
              "    }\n",
              "\n",
              "    .dataframe thead th {\n",
              "        text-align: right;\n",
              "    }\n",
              "</style>\n",
              "<table border=\"1\" class=\"dataframe\">\n",
              "  <thead>\n",
              "    <tr style=\"text-align: right;\">\n",
              "      <th></th>\n",
              "      <th>SAT</th>\n",
              "      <th>GPA</th>\n",
              "    </tr>\n",
              "  </thead>\n",
              "  <tbody>\n",
              "    <tr>\n",
              "      <th>0</th>\n",
              "      <td>1714</td>\n",
              "      <td>2.40</td>\n",
              "    </tr>\n",
              "    <tr>\n",
              "      <th>1</th>\n",
              "      <td>1664</td>\n",
              "      <td>2.52</td>\n",
              "    </tr>\n",
              "    <tr>\n",
              "      <th>2</th>\n",
              "      <td>1760</td>\n",
              "      <td>2.54</td>\n",
              "    </tr>\n",
              "    <tr>\n",
              "      <th>3</th>\n",
              "      <td>1685</td>\n",
              "      <td>2.74</td>\n",
              "    </tr>\n",
              "    <tr>\n",
              "      <th>4</th>\n",
              "      <td>1693</td>\n",
              "      <td>2.83</td>\n",
              "    </tr>\n",
              "    <tr>\n",
              "      <th>...</th>\n",
              "      <td>...</td>\n",
              "      <td>...</td>\n",
              "    </tr>\n",
              "    <tr>\n",
              "      <th>79</th>\n",
              "      <td>1936</td>\n",
              "      <td>3.71</td>\n",
              "    </tr>\n",
              "    <tr>\n",
              "      <th>80</th>\n",
              "      <td>1810</td>\n",
              "      <td>3.71</td>\n",
              "    </tr>\n",
              "    <tr>\n",
              "      <th>81</th>\n",
              "      <td>1987</td>\n",
              "      <td>3.73</td>\n",
              "    </tr>\n",
              "    <tr>\n",
              "      <th>82</th>\n",
              "      <td>1962</td>\n",
              "      <td>3.76</td>\n",
              "    </tr>\n",
              "    <tr>\n",
              "      <th>83</th>\n",
              "      <td>2050</td>\n",
              "      <td>3.81</td>\n",
              "    </tr>\n",
              "  </tbody>\n",
              "</table>\n",
              "<p>84 rows × 2 columns</p>\n",
              "</div>"
            ],
            "text/plain": [
              "     SAT   GPA\n",
              "0   1714  2.40\n",
              "1   1664  2.52\n",
              "2   1760  2.54\n",
              "3   1685  2.74\n",
              "4   1693  2.83\n",
              "..   ...   ...\n",
              "79  1936  3.71\n",
              "80  1810  3.71\n",
              "81  1987  3.73\n",
              "82  1962  3.76\n",
              "83  2050  3.81\n",
              "\n",
              "[84 rows x 2 columns]"
            ]
          },
          "execution_count": 1,
          "metadata": {},
          "output_type": "execute_result"
        }
      ],
      "source": [
        "import matplotlib.pyplot as plt \n",
        "from sklearn.model_selection import train_test_split\n",
        "from sklearn.preprocessing import StandardScaler\n",
        "import pandas as pd\n",
        "\n",
        "# Step 1 - Load dataset\n",
        "df = pd.read_csv(\"https://raw.githubusercontent.com/tehmeerali786/360-Data-Science-/master/1.01.%20Simple%20linear%20regression.csv\", sep=\",\")\n",
        "\n",
        "df\n"
      ]
    },
    {
      "cell_type": "code",
      "execution_count": 2,
      "metadata": {},
      "outputs": [
        {
          "data": {
            "text/plain": [
              "array([[1714.  ,    2.4 ],\n",
              "       [1664.  ,    2.52],\n",
              "       [1760.  ,    2.54],\n",
              "       [1685.  ,    2.74],\n",
              "       [1693.  ,    2.83],\n",
              "       [1670.  ,    2.91],\n",
              "       [1764.  ,    3.  ],\n",
              "       [1764.  ,    3.  ],\n",
              "       [1792.  ,    3.01],\n",
              "       [1850.  ,    3.01],\n",
              "       [1735.  ,    3.02],\n",
              "       [1775.  ,    3.07],\n",
              "       [1735.  ,    3.08],\n",
              "       [1712.  ,    3.08],\n",
              "       [1773.  ,    3.12],\n",
              "       [1872.  ,    3.17],\n",
              "       [1755.  ,    3.17],\n",
              "       [1674.  ,    3.17],\n",
              "       [1842.  ,    3.17],\n",
              "       [1786.  ,    3.19],\n",
              "       [1761.  ,    3.19],\n",
              "       [1722.  ,    3.19],\n",
              "       [1663.  ,    3.2 ],\n",
              "       [1687.  ,    3.21],\n",
              "       [1974.  ,    3.24],\n",
              "       [1826.  ,    3.28],\n",
              "       [1787.  ,    3.28],\n",
              "       [1821.  ,    3.28],\n",
              "       [2020.  ,    3.28],\n",
              "       [1794.  ,    3.28],\n",
              "       [1769.  ,    3.28],\n",
              "       [1934.  ,    3.28],\n",
              "       [1775.  ,    3.29],\n",
              "       [1855.  ,    3.29],\n",
              "       [1880.  ,    3.29],\n",
              "       [1849.  ,    3.31],\n",
              "       [1808.  ,    3.32],\n",
              "       [1954.  ,    3.34],\n",
              "       [1777.  ,    3.37],\n",
              "       [1831.  ,    3.37],\n",
              "       [1865.  ,    3.37],\n",
              "       [1850.  ,    3.38],\n",
              "       [1966.  ,    3.38],\n",
              "       [1702.  ,    3.39],\n",
              "       [1990.  ,    3.39],\n",
              "       [1925.  ,    3.4 ],\n",
              "       [1824.  ,    3.4 ],\n",
              "       [1956.  ,    3.4 ],\n",
              "       [1857.  ,    3.41],\n",
              "       [1979.  ,    3.41],\n",
              "       [1802.  ,    3.41],\n",
              "       [1855.  ,    3.42],\n",
              "       [1907.  ,    3.42],\n",
              "       [1634.  ,    3.42],\n",
              "       [1879.  ,    3.44],\n",
              "       [1887.  ,    3.47],\n",
              "       [1730.  ,    3.47],\n",
              "       [1953.  ,    3.47],\n",
              "       [1781.  ,    3.47],\n",
              "       [1891.  ,    3.48],\n",
              "       [1964.  ,    3.49],\n",
              "       [1808.  ,    3.49],\n",
              "       [1893.  ,    3.5 ],\n",
              "       [2041.  ,    3.51],\n",
              "       [1893.  ,    3.51],\n",
              "       [1832.  ,    3.52],\n",
              "       [1850.  ,    3.52],\n",
              "       [1934.  ,    3.54],\n",
              "       [1861.  ,    3.58],\n",
              "       [1931.  ,    3.58],\n",
              "       [1933.  ,    3.59],\n",
              "       [1778.  ,    3.59],\n",
              "       [1975.  ,    3.6 ],\n",
              "       [1934.  ,    3.6 ],\n",
              "       [2021.  ,    3.61],\n",
              "       [2015.  ,    3.62],\n",
              "       [1997.  ,    3.64],\n",
              "       [2020.  ,    3.65],\n",
              "       [1843.  ,    3.71],\n",
              "       [1936.  ,    3.71],\n",
              "       [1810.  ,    3.71],\n",
              "       [1987.  ,    3.73],\n",
              "       [1962.  ,    3.76],\n",
              "       [2050.  ,    3.81]])"
            ]
          },
          "execution_count": 2,
          "metadata": {},
          "output_type": "execute_result"
        }
      ],
      "source": [
        "df.values"
      ]
    },
    {
      "cell_type": "code",
      "execution_count": 3,
      "metadata": {},
      "outputs": [
        {
          "name": "stdout",
          "output_type": "stream",
          "text": [
            "Index(['SAT', 'GPA'], dtype='object')\n"
          ]
        }
      ],
      "source": [
        "print(df.columns)"
      ]
    },
    {
      "cell_type": "code",
      "execution_count": 4,
      "metadata": {},
      "outputs": [],
      "source": [
        "TOTAL_SIZE = len(df)\n",
        "TRAIN_SIZE = int(TOTAL_SIZE * 0.6)\n",
        "VAL_SIZE = int(TOTAL_SIZE * 0.2)\n",
        "TEST_SIZE = int(TOTAL_SIZE * 0.2)\n",
        "\n",
        "#print(TOTAL_SIZE)\n",
        "#print(TRAIN_SIZE)\n",
        "#print(VAL_SIZE)\n",
        "#print(TEST_SIZE)\n",
        "\n",
        "# Step 2 - Split dataset into training, validation, and test splits\n",
        "X_todo, X_test, y_todo, y_test = train_test_split(df[[\"SAT\"]].values, df[\"GPA\"].values, test_size=TEST_SIZE, random_state=0)\n",
        "X_train, X_val, y_train, y_val = train_test_split(X_todo, y_todo, test_size=VAL_SIZE, random_state=0)"
      ]
    },
    {
      "cell_type": "code",
      "execution_count": 5,
      "metadata": {
        "id": "cwvVRuSj7GaM"
      },
      "outputs": [
        {
          "name": "stdout",
          "output_type": "stream",
          "text": [
            "X_train: 52 y_train: (52,)\n",
            "X_val: (16, 1) y_val: (16,)\n",
            "X_test: (16, 1) y_val: (16,)\n"
          ]
        }
      ],
      "source": [
        "# To make sure that everything is correct and also to get an overview of the\n",
        "# dimensions of the data, we print out the shapes of each variable.\n",
        "print(\"X_train:\", len(X_train), \"y_train:\", y_train.shape)\n",
        "print(\"X_val:\", X_val.shape, \"y_val:\", y_val.shape)\n",
        "print(\"X_test:\", X_test.shape, \"y_val:\", y_test.shape)\n"
      ]
    },
    {
      "cell_type": "code",
      "execution_count": null,
      "metadata": {},
      "outputs": [],
      "source": []
    },
    {
      "cell_type": "code",
      "execution_count": 6,
      "metadata": {
        "id": "rlCYe1Qc-WIO"
      },
      "outputs": [
        {
          "data": {
            "text/plain": [
              "1634"
            ]
          },
          "execution_count": 6,
          "metadata": {},
          "output_type": "execute_result"
        }
      ],
      "source": [
        "X_train.min()"
      ]
    },
    {
      "cell_type": "code",
      "execution_count": 7,
      "metadata": {
        "id": "F2ozuf2v-YIm"
      },
      "outputs": [
        {
          "data": {
            "text/plain": [
              "2050"
            ]
          },
          "execution_count": 7,
          "metadata": {},
          "output_type": "execute_result"
        }
      ],
      "source": [
        "X_train.max()"
      ]
    },
    {
      "cell_type": "code",
      "execution_count": 8,
      "metadata": {
        "id": "ooFOTE_X-auI"
      },
      "outputs": [
        {
          "data": {
            "text/plain": [
              "2.4"
            ]
          },
          "execution_count": 8,
          "metadata": {},
          "output_type": "execute_result"
        }
      ],
      "source": [
        "y_train.min()"
      ]
    },
    {
      "cell_type": "code",
      "execution_count": 9,
      "metadata": {
        "id": "1x2-O6JV-dku"
      },
      "outputs": [
        {
          "data": {
            "text/plain": [
              "3.81"
            ]
          },
          "execution_count": 9,
          "metadata": {},
          "output_type": "execute_result"
        }
      ],
      "source": [
        "y_train.max()"
      ]
    },
    {
      "cell_type": "code",
      "execution_count": 10,
      "metadata": {},
      "outputs": [
        {
          "data": {
            "text/plain": [
              "array([2050])"
            ]
          },
          "execution_count": 10,
          "metadata": {},
          "output_type": "execute_result"
        }
      ],
      "source": [
        "X_train[0]"
      ]
    },
    {
      "cell_type": "code",
      "execution_count": 11,
      "metadata": {},
      "outputs": [
        {
          "data": {
            "text/plain": [
              "3.81"
            ]
          },
          "execution_count": 11,
          "metadata": {},
          "output_type": "execute_result"
        }
      ],
      "source": [
        "y_train[0]"
      ]
    },
    {
      "cell_type": "code",
      "execution_count": 12,
      "metadata": {},
      "outputs": [],
      "source": [
        "# Step 3 - Scale the input features\n",
        "scaler = StandardScaler()\n",
        "X_train = scaler.fit_transform(X_train)\n",
        "X_val = scaler.transform(X_val)\n",
        "X_test = scaler.transform(X_test)"
      ]
    },
    {
      "cell_type": "code",
      "execution_count": 13,
      "metadata": {
        "id": "urt357Nn-0z1"
      },
      "outputs": [
        {
          "data": {
            "text/plain": [
              "dtype('float64')"
            ]
          },
          "execution_count": 13,
          "metadata": {},
          "output_type": "execute_result"
        }
      ],
      "source": [
        "# Notice that after the transformation the type of the inputs will change from integer to float.\n",
        "X_train.dtype"
      ]
    },
    {
      "cell_type": "code",
      "execution_count": 14,
      "metadata": {},
      "outputs": [
        {
          "data": {
            "text/plain": [
              "-4.82520006856318e-16"
            ]
          },
          "execution_count": 14,
          "metadata": {},
          "output_type": "execute_result"
        }
      ],
      "source": [
        "X_train.mean()"
      ]
    },
    {
      "cell_type": "code",
      "execution_count": 15,
      "metadata": {
        "id": "G1NIi6PW-1hj"
      },
      "outputs": [
        {
          "data": {
            "text/plain": [
              "-2.0776669879005647"
            ]
          },
          "execution_count": 15,
          "metadata": {},
          "output_type": "execute_result"
        }
      ],
      "source": [
        "X_train.min()"
      ]
    },
    {
      "cell_type": "code",
      "execution_count": 16,
      "metadata": {
        "id": "nPpj_S4M-2Tt"
      },
      "outputs": [
        {
          "data": {
            "text/plain": [
              "1.842445727517229"
            ]
          },
          "execution_count": 16,
          "metadata": {},
          "output_type": "execute_result"
        }
      ],
      "source": [
        "X_train.max()"
      ]
    },
    {
      "cell_type": "code",
      "execution_count": 17,
      "metadata": {},
      "outputs": [
        {
          "data": {
            "text/plain": [
              "2.4"
            ]
          },
          "execution_count": 17,
          "metadata": {},
          "output_type": "execute_result"
        }
      ],
      "source": [
        "y_train.min()"
      ]
    },
    {
      "cell_type": "code",
      "execution_count": 18,
      "metadata": {},
      "outputs": [
        {
          "data": {
            "text/plain": [
              "3.81"
            ]
          },
          "execution_count": 18,
          "metadata": {},
          "output_type": "execute_result"
        }
      ],
      "source": [
        "y_train.max()"
      ]
    },
    {
      "cell_type": "code",
      "execution_count": 19,
      "metadata": {
        "id": "LRv1XvgB-6ln"
      },
      "outputs": [],
      "source": [
        "import tensorflow.keras as keras\n",
        "\n",
        "# We set the random seed to 0\n",
        "keras.utils.set_random_seed(0)\n"
      ]
    },
    {
      "cell_type": "code",
      "execution_count": 20,
      "metadata": {
        "id": "X-rqsVp5_Dyv"
      },
      "outputs": [
        {
          "data": {
            "text/plain": [
              "array([3.81, 3.71, 2.4 , 3.41, 3.4 ])"
            ]
          },
          "execution_count": 20,
          "metadata": {},
          "output_type": "execute_result"
        }
      ],
      "source": [
        "# We can see that after the transformation, each row has been transformed.\n",
        "# Notice how the first element, which was previously 5, is now all zeroes\n",
        "# except for the 6th column. The same logic is true for the other rows as\n",
        "# well.\n",
        "y_train[0:5]"
      ]
    },
    {
      "cell_type": "markdown",
      "metadata": {
        "id": "eXeaL96SD1pj"
      },
      "source": [
        "# Building the network"
      ]
    },
    {
      "cell_type": "markdown",
      "metadata": {
        "id": "da892rf8Gm1T"
      },
      "source": [
        "Now, we can finally start building our neural network. For this, we will use the Sequential class of the keras library, which makes building neural networks really easy."
      ]
    },
    {
      "cell_type": "code",
      "execution_count": 21,
      "metadata": {
        "id": "w86NTs5hHRfV"
      },
      "outputs": [
        {
          "name": "stderr",
          "output_type": "stream",
          "text": [
            "WARNING:absl:At this time, the v2.11+ optimizer `tf.keras.optimizers.Adam` runs slowly on M1/M2 Macs, please use the legacy Keras optimizer instead, located at `tf.keras.optimizers.legacy.Adam`.\n"
          ]
        }
      ],
      "source": [
        "from tensorflow.keras.models import Sequential\n",
        "from tensorflow.keras.layers import Dense, Dropout\n",
        "\n",
        "# The neural network will have 3 hidden layers in total, each with 32-32-32\n",
        "# neurons.\n",
        "model = Sequential([\n",
        "    Dense(units=32, activation=\"relu\", input_shape=(1,)),\n",
        "    Dropout(0.5),\n",
        "    Dense(units = 32, activation=\"relu\"),\n",
        "    Dropout(0.5),\n",
        "    Dense(units = 32, activation=\"relu\"),\n",
        "    Dense(units = 1)\n",
        "])\n",
        "\n",
        "# Lastly, we also need to compile the model, which is the same as saying\n",
        "# that we specify the loss and metric used during training.\n",
        "model.compile(optimizer=keras.optimizers.Adam(learning_rate=0.003), loss=\"MSE\")"
      ]
    },
    {
      "cell_type": "code",
      "execution_count": null,
      "metadata": {},
      "outputs": [],
      "source": []
    },
    {
      "cell_type": "code",
      "execution_count": 22,
      "metadata": {
        "id": "j_8udGrFHk6E"
      },
      "outputs": [
        {
          "name": "stdout",
          "output_type": "stream",
          "text": [
            "Model: \"sequential\"\n",
            "_________________________________________________________________\n",
            " Layer (type)                Output Shape              Param #   \n",
            "=================================================================\n",
            " dense (Dense)               (None, 32)                64        \n",
            "                                                                 \n",
            " dropout (Dropout)           (None, 32)                0         \n",
            "                                                                 \n",
            " dense_1 (Dense)             (None, 32)                1056      \n",
            "                                                                 \n",
            " dropout_1 (Dropout)         (None, 32)                0         \n",
            "                                                                 \n",
            " dense_2 (Dense)             (None, 32)                1056      \n",
            "                                                                 \n",
            " dense_3 (Dense)             (None, 1)                 33        \n",
            "                                                                 \n",
            "=================================================================\n",
            "Total params: 2209 (8.63 KB)\n",
            "Trainable params: 2209 (8.63 KB)\n",
            "Non-trainable params: 0 (0.00 Byte)\n",
            "_________________________________________________________________\n"
          ]
        }
      ],
      "source": [
        "# We can now print the summary of the model, which tells us how many\n",
        "# layers there are in the model and how many neurons each one has.\n",
        "model.summary()"
      ]
    },
    {
      "cell_type": "code",
      "execution_count": 23,
      "metadata": {
        "id": "l4P3REh5_dx5"
      },
      "outputs": [
        {
          "name": "stdout",
          "output_type": "stream",
          "text": [
            "Epoch 1/10\n",
            "2/2 [==============================] - 0s 65ms/step - loss: 12.1367 - val_loss: 10.5130\n",
            "Epoch 2/10\n",
            "2/2 [==============================] - 0s 12ms/step - loss: 11.2195 - val_loss: 9.9255\n",
            "Epoch 3/10\n",
            "2/2 [==============================] - 0s 12ms/step - loss: 10.5025 - val_loss: 9.3777\n",
            "Epoch 4/10\n",
            "2/2 [==============================] - 0s 12ms/step - loss: 9.9581 - val_loss: 8.8308\n",
            "Epoch 5/10\n",
            "2/2 [==============================] - 0s 12ms/step - loss: 9.1740 - val_loss: 8.2565\n",
            "Epoch 6/10\n",
            "2/2 [==============================] - 0s 11ms/step - loss: 8.2040 - val_loss: 7.6088\n",
            "Epoch 7/10\n",
            "2/2 [==============================] - 0s 12ms/step - loss: 7.6020 - val_loss: 6.9065\n",
            "Epoch 8/10\n",
            "2/2 [==============================] - 0s 11ms/step - loss: 6.7373 - val_loss: 6.1257\n",
            "Epoch 9/10\n",
            "2/2 [==============================] - 0s 12ms/step - loss: 5.8067 - val_loss: 5.2748\n",
            "Epoch 10/10\n",
            "2/2 [==============================] - 0s 12ms/step - loss: 5.1502 - val_loss: 4.3985\n"
          ]
        }
      ],
      "source": [
        "# We can now train the model using the .fit() function.\n",
        "history = model.fit(\n",
        "    X_train, y_train, epochs=10, verbose=1, validation_data=(X_val, y_val), batch_size=32\n",
        ")"
      ]
    },
    {
      "cell_type": "code",
      "execution_count": 24,
      "metadata": {
        "id": "Jf8ISaCzIaI8"
      },
      "outputs": [
        {
          "data": {
            "image/png": "[encoded data removed]",
            "text/plain": [
              "<Figure size 640x480 with 1 Axes>"
            ]
          },
          "metadata": {},
          "output_type": "display_data"
        }
      ],
      "source": [
        "# After the training is done, it is time to check the training and validation\n",
        "# losses. Both seem to have decreased over the epochs, which is a good sign.\n",
        "plt.plot(history.history[\"loss\"], \"*-\")\n",
        "plt.plot(history.history[\"val_loss\"], \"*-\")\n",
        "plt.legend([\"Training Loss\", \"Validation Loss\"])\n",
        "plt.show()"
      ]
    }
  ],
  "metadata": {
    "accelerator": "GPU",
    "colab": {
      "gpuType": "T4",
      "provenance": []
    },
    "kernelspec": {
      "display_name": "Python 3",
      "name": "python3"
    },
    "language_info": {
      "codemirror_mode": {
        "name": "ipython",
        "version": 3
      },
      "file_extension": ".py",
      "mimetype": "text/x-python",
      "name": "python",
      "nbconvert_exporter": "python",
      "pygments_lexer": "ipython3",
      "version": "3.11.3"
    }
  },
  "nbformat": 4,
  "nbformat_minor": 0
}
