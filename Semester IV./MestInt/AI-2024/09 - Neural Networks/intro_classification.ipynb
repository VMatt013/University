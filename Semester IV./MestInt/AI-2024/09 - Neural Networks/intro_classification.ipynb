{
  "cells": [
    {
      "cell_type": "code",
      "execution_count": 1,
      "metadata": {},
      "outputs": [
        {
          "data": {
            "text/html": [
              "<div>\n",
              "<style scoped>\n",
              "    .dataframe tbody tr th:only-of-type {\n",
              "        vertical-align: middle;\n",
              "    }\n",
              "\n",
              "    .dataframe tbody tr th {\n",
              "        vertical-align: top;\n",
              "    }\n",
              "\n",
              "    .dataframe thead th {\n",
              "        text-align: right;\n",
              "    }\n",
              "</style>\n",
              "<table border=\"1\" class=\"dataframe\">\n",
              "  <thead>\n",
              "    <tr style=\"text-align: right;\">\n",
              "      <th></th>\n",
              "      <th>ID</th>\n",
              "      <th>Age</th>\n",
              "      <th>Agency</th>\n",
              "      <th>Agency Type</th>\n",
              "      <th>Commision (in value)</th>\n",
              "      <th>Destination</th>\n",
              "      <th>Distribution Channel</th>\n",
              "      <th>Duration</th>\n",
              "      <th>Gender</th>\n",
              "      <th>Net Sales</th>\n",
              "      <th>Product Name</th>\n",
              "      <th>Claim</th>\n",
              "    </tr>\n",
              "  </thead>\n",
              "  <tbody>\n",
              "    <tr>\n",
              "      <th>0</th>\n",
              "      <td>45341</td>\n",
              "      <td>28</td>\n",
              "      <td>C2B</td>\n",
              "      <td>Airlines</td>\n",
              "      <td>28.13</td>\n",
              "      <td>SINGAPORE</td>\n",
              "      <td>Online</td>\n",
              "      <td>34</td>\n",
              "      <td>F</td>\n",
              "      <td>112.5</td>\n",
              "      <td>Silver Plan</td>\n",
              "      <td>1</td>\n",
              "    </tr>\n",
              "    <tr>\n",
              "      <th>1</th>\n",
              "      <td>12958</td>\n",
              "      <td>37</td>\n",
              "      <td>JZI</td>\n",
              "      <td>Airlines</td>\n",
              "      <td>12.95</td>\n",
              "      <td>PHILIPPINES</td>\n",
              "      <td>Online</td>\n",
              "      <td>53</td>\n",
              "      <td>F</td>\n",
              "      <td>37.0</td>\n",
              "      <td>Basic Plan</td>\n",
              "      <td>0</td>\n",
              "    </tr>\n",
              "    <tr>\n",
              "      <th>2</th>\n",
              "      <td>18233</td>\n",
              "      <td>27</td>\n",
              "      <td>EPX</td>\n",
              "      <td>Travel Agency</td>\n",
              "      <td>0.00</td>\n",
              "      <td>UNITED STATES</td>\n",
              "      <td>Online</td>\n",
              "      <td>28</td>\n",
              "      <td>NaN</td>\n",
              "      <td>13.0</td>\n",
              "      <td>Cancellation Plan</td>\n",
              "      <td>0</td>\n",
              "    </tr>\n",
              "    <tr>\n",
              "      <th>3</th>\n",
              "      <td>31742</td>\n",
              "      <td>36</td>\n",
              "      <td>EPX</td>\n",
              "      <td>Travel Agency</td>\n",
              "      <td>0.00</td>\n",
              "      <td>SAUDI ARABIA</td>\n",
              "      <td>Online</td>\n",
              "      <td>1</td>\n",
              "      <td>NaN</td>\n",
              "      <td>34.0</td>\n",
              "      <td>Cancellation Plan</td>\n",
              "      <td>0</td>\n",
              "    </tr>\n",
              "    <tr>\n",
              "      <th>4</th>\n",
              "      <td>14381</td>\n",
              "      <td>26</td>\n",
              "      <td>CWT</td>\n",
              "      <td>Travel Agency</td>\n",
              "      <td>23.76</td>\n",
              "      <td>THAILAND</td>\n",
              "      <td>Online</td>\n",
              "      <td>33</td>\n",
              "      <td>NaN</td>\n",
              "      <td>39.6</td>\n",
              "      <td>Rental Vehicle Excess Insurance</td>\n",
              "      <td>0</td>\n",
              "    </tr>\n",
              "    <tr>\n",
              "      <th>...</th>\n",
              "      <td>...</td>\n",
              "      <td>...</td>\n",
              "      <td>...</td>\n",
              "      <td>...</td>\n",
              "      <td>...</td>\n",
              "      <td>...</td>\n",
              "      <td>...</td>\n",
              "      <td>...</td>\n",
              "      <td>...</td>\n",
              "      <td>...</td>\n",
              "      <td>...</td>\n",
              "      <td>...</td>\n",
              "    </tr>\n",
              "    <tr>\n",
              "      <th>62283</th>\n",
              "      <td>36315</td>\n",
              "      <td>36</td>\n",
              "      <td>EPX</td>\n",
              "      <td>Travel Agency</td>\n",
              "      <td>0.00</td>\n",
              "      <td>HONG KONG</td>\n",
              "      <td>Online</td>\n",
              "      <td>17</td>\n",
              "      <td>NaN</td>\n",
              "      <td>28.0</td>\n",
              "      <td>2 way Comprehensive Plan</td>\n",
              "      <td>0</td>\n",
              "    </tr>\n",
              "    <tr>\n",
              "      <th>62284</th>\n",
              "      <td>2511</td>\n",
              "      <td>56</td>\n",
              "      <td>JZI</td>\n",
              "      <td>Airlines</td>\n",
              "      <td>9.10</td>\n",
              "      <td>AUSTRALIA</td>\n",
              "      <td>Online</td>\n",
              "      <td>9</td>\n",
              "      <td>F</td>\n",
              "      <td>26.0</td>\n",
              "      <td>Basic Plan</td>\n",
              "      <td>0</td>\n",
              "    </tr>\n",
              "    <tr>\n",
              "      <th>62285</th>\n",
              "      <td>16874</td>\n",
              "      <td>36</td>\n",
              "      <td>EPX</td>\n",
              "      <td>Travel Agency</td>\n",
              "      <td>0.00</td>\n",
              "      <td>ITALY</td>\n",
              "      <td>Online</td>\n",
              "      <td>216</td>\n",
              "      <td>NaN</td>\n",
              "      <td>20.0</td>\n",
              "      <td>2 way Comprehensive Plan</td>\n",
              "      <td>1</td>\n",
              "    </tr>\n",
              "    <tr>\n",
              "      <th>62286</th>\n",
              "      <td>14801</td>\n",
              "      <td>29</td>\n",
              "      <td>CWT</td>\n",
              "      <td>Travel Agency</td>\n",
              "      <td>11.88</td>\n",
              "      <td>AUSTRALIA</td>\n",
              "      <td>Online</td>\n",
              "      <td>37</td>\n",
              "      <td>NaN</td>\n",
              "      <td>19.8</td>\n",
              "      <td>Rental Vehicle Excess Insurance</td>\n",
              "      <td>1</td>\n",
              "    </tr>\n",
              "    <tr>\n",
              "      <th>62287</th>\n",
              "      <td>5550</td>\n",
              "      <td>44</td>\n",
              "      <td>EPX</td>\n",
              "      <td>Travel Agency</td>\n",
              "      <td>0.00</td>\n",
              "      <td>THAILAND</td>\n",
              "      <td>Online</td>\n",
              "      <td>70</td>\n",
              "      <td>NaN</td>\n",
              "      <td>20.0</td>\n",
              "      <td>Cancellation Plan</td>\n",
              "      <td>0</td>\n",
              "    </tr>\n",
              "  </tbody>\n",
              "</table>\n",
              "<p>62288 rows × 12 columns</p>\n",
              "</div>"
            ],
            "text/plain": [
              "          ID  Age Agency    Agency Type  Commision (in value)    Destination  \\\n",
              "0      45341   28    C2B       Airlines                 28.13      SINGAPORE   \n",
              "1      12958   37    JZI       Airlines                 12.95    PHILIPPINES   \n",
              "2      18233   27    EPX  Travel Agency                  0.00  UNITED STATES   \n",
              "3      31742   36    EPX  Travel Agency                  0.00   SAUDI ARABIA   \n",
              "4      14381   26    CWT  Travel Agency                 23.76       THAILAND   \n",
              "...      ...  ...    ...            ...                   ...            ...   \n",
              "62283  36315   36    EPX  Travel Agency                  0.00      HONG KONG   \n",
              "62284   2511   56    JZI       Airlines                  9.10      AUSTRALIA   \n",
              "62285  16874   36    EPX  Travel Agency                  0.00          ITALY   \n",
              "62286  14801   29    CWT  Travel Agency                 11.88      AUSTRALIA   \n",
              "62287   5550   44    EPX  Travel Agency                  0.00       THAILAND   \n",
              "\n",
              "      Distribution Channel  Duration Gender  Net Sales  \\\n",
              "0                   Online        34      F      112.5   \n",
              "1                   Online        53      F       37.0   \n",
              "2                   Online        28    NaN       13.0   \n",
              "3                   Online         1    NaN       34.0   \n",
              "4                   Online        33    NaN       39.6   \n",
              "...                    ...       ...    ...        ...   \n",
              "62283               Online        17    NaN       28.0   \n",
              "62284               Online         9      F       26.0   \n",
              "62285               Online       216    NaN       20.0   \n",
              "62286               Online        37    NaN       19.8   \n",
              "62287               Online        70    NaN       20.0   \n",
              "\n",
              "                          Product Name  Claim  \n",
              "0                          Silver Plan      1  \n",
              "1                           Basic Plan      0  \n",
              "2                    Cancellation Plan      0  \n",
              "3                    Cancellation Plan      0  \n",
              "4      Rental Vehicle Excess Insurance      0  \n",
              "...                                ...    ...  \n",
              "62283         2 way Comprehensive Plan      0  \n",
              "62284                       Basic Plan      0  \n",
              "62285         2 way Comprehensive Plan      1  \n",
              "62286  Rental Vehicle Excess Insurance      1  \n",
              "62287                Cancellation Plan      0  \n",
              "\n",
              "[62288 rows x 12 columns]"
            ]
          },
          "execution_count": 1,
          "metadata": {},
          "output_type": "execute_result"
        }
      ],
      "source": [
        "import matplotlib.pyplot as plt \n",
        "from sklearn.model_selection import train_test_split\n",
        "from sklearn.preprocessing import StandardScaler\n",
        "import pandas as pd\n",
        "\n",
        "# Step 1 - Load dataset\n",
        "df = pd.read_csv(\"https://raw.githubusercontent.com/Athpr123/Binary-Classification-Using-Machine-learning/master/dataset.csv\", sep=\",\")\n",
        "\n",
        "df\n"
      ]
    },
    {
      "cell_type": "code",
      "execution_count": 2,
      "metadata": {},
      "outputs": [
        {
          "name": "stdout",
          "output_type": "stream",
          "text": [
            "0        28\n",
            "1        37\n",
            "2        27\n",
            "3        36\n",
            "4        26\n",
            "         ..\n",
            "62283    36\n",
            "62284    56\n",
            "62285    36\n",
            "62286    29\n",
            "62287    44\n",
            "Name: Age, Length: 62288, dtype: int64\n"
          ]
        }
      ],
      "source": [
        "print(df[\"Age\"])"
      ]
    },
    {
      "cell_type": "code",
      "execution_count": 3,
      "metadata": {},
      "outputs": [
        {
          "name": "stdout",
          "output_type": "stream",
          "text": [
            "0        1\n",
            "1        0\n",
            "2        0\n",
            "3        0\n",
            "4        0\n",
            "        ..\n",
            "62283    0\n",
            "62284    0\n",
            "62285    1\n",
            "62286    1\n",
            "62287    0\n",
            "Name: Claim, Length: 62288, dtype: int64\n"
          ]
        }
      ],
      "source": [
        "print(df[\"Claim\"])"
      ]
    },
    {
      "cell_type": "code",
      "execution_count": 4,
      "metadata": {},
      "outputs": [
        {
          "name": "stdout",
          "output_type": "stream",
          "text": [
            "Index(['ID', 'Age', 'Agency', 'Agency Type', 'Commision (in value)',\n",
            "       'Destination', 'Distribution Channel', 'Duration', 'Gender',\n",
            "       'Net Sales', 'Product Name', 'Claim'],\n",
            "      dtype='object')\n"
          ]
        }
      ],
      "source": [
        "print(df.columns)"
      ]
    },
    {
      "cell_type": "code",
      "execution_count": 5,
      "metadata": {},
      "outputs": [
        {
          "data": {
            "text/html": [
              "<div>\n",
              "<style scoped>\n",
              "    .dataframe tbody tr th:only-of-type {\n",
              "        vertical-align: middle;\n",
              "    }\n",
              "\n",
              "    .dataframe tbody tr th {\n",
              "        vertical-align: top;\n",
              "    }\n",
              "\n",
              "    .dataframe thead th {\n",
              "        text-align: right;\n",
              "    }\n",
              "</style>\n",
              "<table border=\"1\" class=\"dataframe\">\n",
              "  <thead>\n",
              "    <tr style=\"text-align: right;\">\n",
              "      <th></th>\n",
              "      <th>Age</th>\n",
              "      <th>Agency</th>\n",
              "      <th>Agency Type</th>\n",
              "    </tr>\n",
              "  </thead>\n",
              "  <tbody>\n",
              "    <tr>\n",
              "      <th>0</th>\n",
              "      <td>28</td>\n",
              "      <td>C2B</td>\n",
              "      <td>Airlines</td>\n",
              "    </tr>\n",
              "    <tr>\n",
              "      <th>1</th>\n",
              "      <td>37</td>\n",
              "      <td>JZI</td>\n",
              "      <td>Airlines</td>\n",
              "    </tr>\n",
              "    <tr>\n",
              "      <th>2</th>\n",
              "      <td>27</td>\n",
              "      <td>EPX</td>\n",
              "      <td>Travel Agency</td>\n",
              "    </tr>\n",
              "    <tr>\n",
              "      <th>3</th>\n",
              "      <td>36</td>\n",
              "      <td>EPX</td>\n",
              "      <td>Travel Agency</td>\n",
              "    </tr>\n",
              "    <tr>\n",
              "      <th>4</th>\n",
              "      <td>26</td>\n",
              "      <td>CWT</td>\n",
              "      <td>Travel Agency</td>\n",
              "    </tr>\n",
              "    <tr>\n",
              "      <th>...</th>\n",
              "      <td>...</td>\n",
              "      <td>...</td>\n",
              "      <td>...</td>\n",
              "    </tr>\n",
              "    <tr>\n",
              "      <th>62283</th>\n",
              "      <td>36</td>\n",
              "      <td>EPX</td>\n",
              "      <td>Travel Agency</td>\n",
              "    </tr>\n",
              "    <tr>\n",
              "      <th>62284</th>\n",
              "      <td>56</td>\n",
              "      <td>JZI</td>\n",
              "      <td>Airlines</td>\n",
              "    </tr>\n",
              "    <tr>\n",
              "      <th>62285</th>\n",
              "      <td>36</td>\n",
              "      <td>EPX</td>\n",
              "      <td>Travel Agency</td>\n",
              "    </tr>\n",
              "    <tr>\n",
              "      <th>62286</th>\n",
              "      <td>29</td>\n",
              "      <td>CWT</td>\n",
              "      <td>Travel Agency</td>\n",
              "    </tr>\n",
              "    <tr>\n",
              "      <th>62287</th>\n",
              "      <td>44</td>\n",
              "      <td>EPX</td>\n",
              "      <td>Travel Agency</td>\n",
              "    </tr>\n",
              "  </tbody>\n",
              "</table>\n",
              "<p>62288 rows × 3 columns</p>\n",
              "</div>"
            ],
            "text/plain": [
              "       Age Agency    Agency Type\n",
              "0       28    C2B       Airlines\n",
              "1       37    JZI       Airlines\n",
              "2       27    EPX  Travel Agency\n",
              "3       36    EPX  Travel Agency\n",
              "4       26    CWT  Travel Agency\n",
              "...    ...    ...            ...\n",
              "62283   36    EPX  Travel Agency\n",
              "62284   56    JZI       Airlines\n",
              "62285   36    EPX  Travel Agency\n",
              "62286   29    CWT  Travel Agency\n",
              "62287   44    EPX  Travel Agency\n",
              "\n",
              "[62288 rows x 3 columns]"
            ]
          },
          "execution_count": 5,
          "metadata": {},
          "output_type": "execute_result"
        }
      ],
      "source": [
        "df[[\"Age\", \"Agency\", \"Agency Type\"]]"
      ]
    },
    {
      "cell_type": "code",
      "execution_count": 6,
      "metadata": {},
      "outputs": [
        {
          "data": {
            "text/plain": [
              "array([[28, 'C2B', 'Airlines'],\n",
              "       [37, 'JZI', 'Airlines'],\n",
              "       [27, 'EPX', 'Travel Agency'],\n",
              "       ...,\n",
              "       [36, 'EPX', 'Travel Agency'],\n",
              "       [29, 'CWT', 'Travel Agency'],\n",
              "       [44, 'EPX', 'Travel Agency']], dtype=object)"
            ]
          },
          "execution_count": 6,
          "metadata": {},
          "output_type": "execute_result"
        }
      ],
      "source": [
        "df[[\"Age\", \"Agency\", \"Agency Type\"]].values"
      ]
    },
    {
      "cell_type": "code",
      "execution_count": 7,
      "metadata": {},
      "outputs": [],
      "source": [
        "TOTAL_SIZE = len(df)\n",
        "TRAIN_SIZE = int(TOTAL_SIZE * 0.6)\n",
        "VAL_SIZE = int(TOTAL_SIZE * 0.2)\n",
        "TEST_SIZE = int(TOTAL_SIZE * 0.2)\n",
        "\n",
        "#print(TOTAL_SIZE)\n",
        "#print(TRAIN_SIZE)\n",
        "#print(VAL_SIZE)\n",
        "#print(TEST_SIZE)\n",
        "\n",
        "# Step 2 - Split dataset into training, validation, and test splits\n",
        "X_todo, X_test, y_todo, y_test = train_test_split(df[[\"Age\", \"Commision (in value)\", \"Duration\",\n",
        "       \"Net Sales\"]].values, df[\"Claim\"].values, test_size=TEST_SIZE, random_state=0)\n",
        "X_train, X_val, y_train, y_val = train_test_split(X_todo, y_todo, test_size=VAL_SIZE, random_state=0)"
      ]
    },
    {
      "cell_type": "code",
      "execution_count": 8,
      "metadata": {
        "id": "cwvVRuSj7GaM"
      },
      "outputs": [
        {
          "name": "stdout",
          "output_type": "stream",
          "text": [
            "X_train: (37374, 4) y_train: (37374,)\n",
            "X_val: (12457, 4) y_val: (12457,)\n",
            "X_test: (12457, 4) y_val: (12457,)\n"
          ]
        }
      ],
      "source": [
        "# To make sure that everything is correct and also to get an overview of the\n",
        "# dimensions of the data, we print out the shapes of each variable.\n",
        "print(\"X_train:\", X_train.shape, \"y_train:\", y_train.shape)\n",
        "print(\"X_val:\", X_val.shape, \"y_val:\", y_val.shape)\n",
        "print(\"X_test:\", X_test.shape, \"y_val:\", y_test.shape)\n"
      ]
    },
    {
      "cell_type": "code",
      "execution_count": null,
      "metadata": {},
      "outputs": [],
      "source": []
    },
    {
      "cell_type": "code",
      "execution_count": 9,
      "metadata": {
        "id": "rlCYe1Qc-WIO"
      },
      "outputs": [
        {
          "data": {
            "text/plain": [
              "-389.0"
            ]
          },
          "execution_count": 9,
          "metadata": {},
          "output_type": "execute_result"
        }
      ],
      "source": [
        "X_train.min()"
      ]
    },
    {
      "cell_type": "code",
      "execution_count": 10,
      "metadata": {
        "id": "F2ozuf2v-YIm"
      },
      "outputs": [
        {
          "data": {
            "text/plain": [
              "4857.0"
            ]
          },
          "execution_count": 10,
          "metadata": {},
          "output_type": "execute_result"
        }
      ],
      "source": [
        "X_train.max()"
      ]
    },
    {
      "cell_type": "code",
      "execution_count": 11,
      "metadata": {
        "id": "ooFOTE_X-auI"
      },
      "outputs": [
        {
          "data": {
            "text/plain": [
              "0"
            ]
          },
          "execution_count": 11,
          "metadata": {},
          "output_type": "execute_result"
        }
      ],
      "source": [
        "y_train.min()"
      ]
    },
    {
      "cell_type": "code",
      "execution_count": 12,
      "metadata": {
        "id": "1x2-O6JV-dku"
      },
      "outputs": [
        {
          "data": {
            "text/plain": [
              "1"
            ]
          },
          "execution_count": 12,
          "metadata": {},
          "output_type": "execute_result"
        }
      ],
      "source": [
        "y_train.max()"
      ]
    },
    {
      "cell_type": "code",
      "execution_count": 13,
      "metadata": {},
      "outputs": [
        {
          "data": {
            "text/plain": [
              "array([36.,  0.,  6., 22.])"
            ]
          },
          "execution_count": 13,
          "metadata": {},
          "output_type": "execute_result"
        }
      ],
      "source": [
        "X_train[0]"
      ]
    },
    {
      "cell_type": "code",
      "execution_count": 14,
      "metadata": {},
      "outputs": [
        {
          "data": {
            "text/plain": [
              "0"
            ]
          },
          "execution_count": 14,
          "metadata": {},
          "output_type": "execute_result"
        }
      ],
      "source": [
        "y_train[0]"
      ]
    },
    {
      "cell_type": "code",
      "execution_count": 15,
      "metadata": {},
      "outputs": [],
      "source": [
        "# Step 3 - Scale the input features\n",
        "scaler = StandardScaler()\n",
        "X_train = scaler.fit_transform(X_train)\n",
        "X_val = scaler.transform(X_val)\n",
        "X_test = scaler.transform(X_test)"
      ]
    },
    {
      "cell_type": "code",
      "execution_count": 16,
      "metadata": {
        "id": "urt357Nn-0z1"
      },
      "outputs": [
        {
          "data": {
            "text/plain": [
              "dtype('float64')"
            ]
          },
          "execution_count": 16,
          "metadata": {},
          "output_type": "execute_result"
        }
      ],
      "source": [
        "# Notice that after the transformation the type of the inputs will change from integer to float.\n",
        "X_train.dtype"
      ]
    },
    {
      "cell_type": "code",
      "execution_count": 17,
      "metadata": {
        "id": "G1NIi6PW-1hj"
      },
      "outputs": [
        {
          "data": {
            "text/plain": [
              "-6.962173152425455"
            ]
          },
          "execution_count": 17,
          "metadata": {},
          "output_type": "execute_result"
        }
      ],
      "source": [
        "X_train.min()"
      ]
    },
    {
      "cell_type": "code",
      "execution_count": 18,
      "metadata": {
        "id": "nPpj_S4M-2Tt"
      },
      "outputs": [
        {
          "data": {
            "text/plain": [
              "42.2499724594282"
            ]
          },
          "execution_count": 18,
          "metadata": {},
          "output_type": "execute_result"
        }
      ],
      "source": [
        "X_train.max()"
      ]
    },
    {
      "cell_type": "code",
      "execution_count": 19,
      "metadata": {
        "id": "LRv1XvgB-6ln"
      },
      "outputs": [],
      "source": [
        "import tensorflow.keras as keras\n",
        "\n",
        "# We set the random seed to 0\n",
        "keras.utils.set_random_seed(0)\n",
        "\n",
        "n_classes = 2\n",
        "\n",
        "# We apply one-hot encoding using the to_categorical Keras function.\n",
        "y_train = keras.utils.to_categorical(y_train, n_classes)\n",
        "y_val = keras.utils.to_categorical(y_val, n_classes)\n",
        "y_test = keras.utils.to_categorical(y_test, n_classes)"
      ]
    },
    {
      "cell_type": "code",
      "execution_count": 20,
      "metadata": {
        "id": "X-rqsVp5_Dyv"
      },
      "outputs": [
        {
          "data": {
            "text/plain": [
              "array([[1., 0.],\n",
              "       [1., 0.],\n",
              "       [0., 1.],\n",
              "       [1., 0.],\n",
              "       [1., 0.]], dtype=float32)"
            ]
          },
          "execution_count": 20,
          "metadata": {},
          "output_type": "execute_result"
        }
      ],
      "source": [
        "# We can see that after the transformation, each row has been transformed.\n",
        "# Notice how the first element, which was previously 5, is now all zeroes\n",
        "# except for the 6th column. The same logic is true for the other rows as\n",
        "# well.\n",
        "y_train[0:5]"
      ]
    },
    {
      "cell_type": "markdown",
      "metadata": {
        "id": "eXeaL96SD1pj"
      },
      "source": [
        "# Building the network"
      ]
    },
    {
      "cell_type": "markdown",
      "metadata": {
        "id": "da892rf8Gm1T"
      },
      "source": [
        "Now, we can finally start building our neural network. For this, we will use the Sequential class of the keras library, which makes building neural networks really easy."
      ]
    },
    {
      "cell_type": "code",
      "execution_count": 21,
      "metadata": {
        "id": "w86NTs5hHRfV"
      },
      "outputs": [
        {
          "name": "stderr",
          "output_type": "stream",
          "text": [
            "WARNING:absl:At this time, the v2.11+ optimizer `tf.keras.optimizers.Adam` runs slowly on M1/M2 Macs, please use the legacy Keras optimizer instead, located at `tf.keras.optimizers.legacy.Adam`.\n"
          ]
        }
      ],
      "source": [
        "from tensorflow.keras.models import Sequential\n",
        "from tensorflow.keras.layers import Dense, Dropout\n",
        "\n",
        "# The neural network will have 2 hidden layers in total, each with 512-512\n",
        "# neurons.\n",
        "model = Sequential([\n",
        "    Dense(units=32, activation=\"relu\", input_shape=(4,)),\n",
        "    Dropout(0.5),\n",
        "    Dense(units = 32, activation=\"relu\"),\n",
        "    Dropout(0.5),\n",
        "    Dense(units = 32, activation=\"relu\"),\n",
        "    Dense(units = n_classes, activation=\"softmax\")\n",
        "])\n",
        "\n",
        "# Lastly, we also need to compile the model, which is the same as saying\n",
        "# that we specify the loss and metric used during training.\n",
        "model.compile(optimizer=keras.optimizers.Adam(learning_rate=0.003), loss=\"binary_crossentropy\", metrics=[\"accuracy\"])"
      ]
    },
    {
      "cell_type": "code",
      "execution_count": 22,
      "metadata": {
        "id": "j_8udGrFHk6E"
      },
      "outputs": [
        {
          "name": "stdout",
          "output_type": "stream",
          "text": [
            "Model: \"sequential\"\n",
            "_________________________________________________________________\n",
            " Layer (type)                Output Shape              Param #   \n",
            "=================================================================\n",
            " dense (Dense)               (None, 32)                160       \n",
            "                                                                 \n",
            " dropout (Dropout)           (None, 32)                0         \n",
            "                                                                 \n",
            " dense_1 (Dense)             (None, 32)                1056      \n",
            "                                                                 \n",
            " dropout_1 (Dropout)         (None, 32)                0         \n",
            "                                                                 \n",
            " dense_2 (Dense)             (None, 32)                1056      \n",
            "                                                                 \n",
            " dense_3 (Dense)             (None, 2)                 66        \n",
            "                                                                 \n",
            "=================================================================\n",
            "Total params: 2338 (9.13 KB)\n",
            "Trainable params: 2338 (9.13 KB)\n",
            "Non-trainable params: 0 (0.00 Byte)\n",
            "_________________________________________________________________\n"
          ]
        }
      ],
      "source": [
        "# We can now print the summary of the model, which tells us how many\n",
        "# layers there are in the model and how many neurons each one has.\n",
        "model.summary()"
      ]
    },
    {
      "cell_type": "code",
      "execution_count": 23,
      "metadata": {
        "id": "l4P3REh5_dx5"
      },
      "outputs": [
        {
          "name": "stdout",
          "output_type": "stream",
          "text": [
            "Epoch 1/10\n",
            "1168/1168 [==============================] - 1s 630us/step - loss: 0.4434 - accuracy: 0.8140 - val_loss: 0.4144 - val_accuracy: 0.8178\n",
            "Epoch 2/10\n",
            "1168/1168 [==============================] - 1s 562us/step - loss: 0.4181 - accuracy: 0.8219 - val_loss: 0.4012 - val_accuracy: 0.8238\n",
            "Epoch 3/10\n",
            "1168/1168 [==============================] - 1s 612us/step - loss: 0.4053 - accuracy: 0.8265 - val_loss: 0.4010 - val_accuracy: 0.8264\n",
            "Epoch 4/10\n",
            "1168/1168 [==============================] - 1s 567us/step - loss: 0.4020 - accuracy: 0.8280 - val_loss: 0.3917 - val_accuracy: 0.8305\n",
            "Epoch 5/10\n",
            "1168/1168 [==============================] - 1s 573us/step - loss: 0.3987 - accuracy: 0.8285 - val_loss: 0.3864 - val_accuracy: 0.8284\n",
            "Epoch 6/10\n",
            "1168/1168 [==============================] - 1s 583us/step - loss: 0.3966 - accuracy: 0.8299 - val_loss: 0.3894 - val_accuracy: 0.8303\n",
            "Epoch 7/10\n",
            "1168/1168 [==============================] - 1s 572us/step - loss: 0.3967 - accuracy: 0.8304 - val_loss: 0.3889 - val_accuracy: 0.8306\n",
            "Epoch 8/10\n",
            "1168/1168 [==============================] - 1s 589us/step - loss: 0.3948 - accuracy: 0.8313 - val_loss: 0.3895 - val_accuracy: 0.8307\n",
            "Epoch 9/10\n",
            "1168/1168 [==============================] - 1s 559us/step - loss: 0.3934 - accuracy: 0.8308 - val_loss: 0.3863 - val_accuracy: 0.8317\n",
            "Epoch 10/10\n",
            "1168/1168 [==============================] - 1s 561us/step - loss: 0.3939 - accuracy: 0.8299 - val_loss: 0.3860 - val_accuracy: 0.8264\n"
          ]
        }
      ],
      "source": [
        "# We can now train the model using the .fit() function.\n",
        "history = model.fit(\n",
        "    X_train, y_train, epochs=10, verbose=1, validation_data=(X_val, y_val), batch_size=32\n",
        ")"
      ]
    },
    {
      "cell_type": "code",
      "execution_count": 24,
      "metadata": {
        "id": "Jf8ISaCzIaI8"
      },
      "outputs": [
        {
          "data": {
            "image/png": "[encoded data removed]",
            "text/plain": [
              "<Figure size 640x480 with 1 Axes>"
            ]
          },
          "metadata": {},
          "output_type": "display_data"
        }
      ],
      "source": [
        "# After the training is done, it is time to check the training and validation\n",
        "# losses. Both seem to have decreased over the epochs, which is a good sign.\n",
        "plt.plot(history.history[\"loss\"], \"*-\")\n",
        "plt.plot(history.history[\"val_loss\"], \"*-\")\n",
        "plt.legend([\"Training Loss\", \"Validation Loss\"])\n",
        "plt.show()"
      ]
    },
    {
      "cell_type": "code",
      "execution_count": 25,
      "metadata": {
        "id": "cFuYnwbdAfoN"
      },
      "outputs": [
        {
          "data": {
            "image/png": "[encoded data removed]",
            "text/plain": [
              "<Figure size 640x480 with 1 Axes>"
            ]
          },
          "metadata": {},
          "output_type": "display_data"
        }
      ],
      "source": [
        "# If we check the accuracies, we will see a similar trend:\n",
        "# both the training and validation accuracies have increased\n",
        "# during training.\n",
        "plt.plot(history.history[\"accuracy\"], \"*-\")\n",
        "plt.plot(history.history[\"val_accuracy\"], \"*-\")\n",
        "plt.legend([\"Training Accuracy\", \"Validation Accuracy\"])\n",
        "plt.show()"
      ]
    }
  ],
  "metadata": {
    "accelerator": "GPU",
    "colab": {
      "gpuType": "T4",
      "provenance": []
    },
    "kernelspec": {
      "display_name": "Python 3",
      "name": "python3"
    },
    "language_info": {
      "codemirror_mode": {
        "name": "ipython",
        "version": 3
      },
      "file_extension": ".py",
      "mimetype": "text/x-python",
      "name": "python",
      "nbconvert_exporter": "python",
      "pygments_lexer": "ipython3",
      "version": "3.11.3"
    }
  },
  "nbformat": 4,
  "nbformat_minor": 0
}
