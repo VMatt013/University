{
  "cells": [
    {
      "cell_type": "markdown",
      "metadata": {
        "id": "q2DypxBFv1DM"
      },
      "source": [
        "Building Your First Neural Network"
      ]
    },
    {
      "cell_type": "markdown",
      "metadata": {
        "id": "BSwEkANHy7lv"
      },
      "source": [
        "# Objectives\n",
        "\n",
        "- Get an overview of how you can build simple feed-forward neural networks in Python\n",
        "- Learn more about the training process\n",
        "- Understand the importance of training and validation data\n",
        "- Build your very first neural network"
      ]
    },
    {
      "cell_type": "markdown",
      "metadata": {
        "id": "j7OaCoaOziiP"
      },
      "source": [
        "# Problem overview\n",
        "\n",
        "We will use the MNIST dataset (http://yann.lecun.com/exdb/mnist/) to build a simple feed-forward neural network capable of recognizing hand-written numbers between 0 and 9. Below you can see an example of a hand-written variation of the number 5.\n",
        "\n",
        "![Unknown.png](data:image/png;base64,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)\n",
        "\n",
        "It is easy to see that using traditional image processing techniques for this problem would be cumbersome, as the development of any such method would require a lot of time and would most likely underperform in the real world.\n",
        "\n",
        "Therefore, we will use deep learning, more precisely a simple neural network architecture that will learn the most important features on its own. This way, there will be no need to think about what kind of features are the most important for this given problem, as all of this will be taken care of by the network automatically."
      ]
    },
    {
      "cell_type": "markdown",
      "metadata": {
        "id": "Wkj_t6_J2CdY"
      },
      "source": [
        "# The MNIST dataset\n",
        "\n",
        "The MNIST dataset contains 70,000 images (60,000 for training and 10,000 for testing) and has examples for all of the single digit numbers (0 to 9). All of the images are grayscale: the digits are drawn in black while the background pixels are white. Lastly, each number has roughly the same number of images and each image only contains one number.\n",
        "\n",
        "\n",
        "We will start with downloading the dataset. If you look at the website of the dataset (http://yann.lecun.com/exdb/mnist/), you can see that there are 4 files to download:\n",
        "- train-images-idx3-ubyte.gz (training images)\n",
        "- train-labels-idx1-ubyte.gz (training labels)\n",
        "- t10k-images-idx3-ubyte.gz (test images)\n",
        "- t10k-labels-idx1-ubyte.gz (test labels).\n",
        "\n",
        "To download these files, run the cell below.\n"
      ]
    },
    {
      "cell_type": "code",
      "execution_count": null,
      "metadata": {
        "id": "vdTbjydC4BE5"
      },
      "outputs": [],
      "source": [
        "# This command is only used to guarantee that running the cell multiple times will not result in any unexpected behaviour.\n",
        "! rm -rf data_raw\n",
        "\n",
        "# We start by downloading the training images and their corresponding labels.\n",
        "! wget -P data_raw http://yann.lecun.com/exdb/mnist/train-images-idx3-ubyte.gz\n",
        "! wget -P data_raw http://yann.lecun.com/exdb/mnist/train-labels-idx1-ubyte.gz\n",
        "\n",
        "# Then, we download the test data.\n",
        "! wget -P data_raw http://yann.lecun.com/exdb/mnist/t10k-images-idx3-ubyte.gz\n",
        "! wget -P data_raw http://yann.lecun.com/exdb/mnist/t10k-labels-idx1-ubyte.gz\n",
        "\n",
        "# This command is only used to guarantee that running the cell multiple times will not result in any unexpected behaviour.\n",
        "! rm -rf data\n",
        "\n",
        "# We create the \"data\" folder, where will store the dataset.\n",
        "! mkdir data\n",
        "\n",
        "# We unzip the training images and labels into the \"data/train\" folder.\n",
        "# The images and their corresponding labels will be stored inside the \"images-ubyte\" and \"labels-ubyte\" subfolders, respectively.\n",
        "! mkdir data/train\n",
        "! gunzip -c data_raw/train-images-idx3-ubyte.gz > data/train/images-ubyte\n",
        "! gunzip -c data_raw/train-labels-idx1-ubyte.gz > data/train/labels-ubyte\n",
        "\n",
        "# We unzip the training images and labels into the \"data/test\" folder.\n",
        "# The images and their corresponding labels will be stored inside the \"images-ubyte\" and \"labels-ubyte\" subfolders, respectively.\n",
        "! mkdir data/test\n",
        "! gunzip -c data_raw/t10k-images-idx3-ubyte.gz > data/test/images-ubyte\n",
        "! gunzip -c data_raw/t10k-labels-idx1-ubyte.gz > data/test/labels-ubyte\n"
      ]
    },
    {
      "cell_type": "markdown",
      "metadata": {
        "id": "3nXW8ypUr_5U"
      },
      "source": [
        "We will use the idx2numpy Python library to convert the original ubyte files into NumPy arrays. Running the cell below installs the library."
      ]
    },
    {
      "cell_type": "code",
      "execution_count": null,
      "metadata": {
        "id": "msG2RvUM8sx0"
      },
      "outputs": [],
      "source": [
        "! pip install idx2numpy"
      ]
    },
    {
      "cell_type": "code",
      "execution_count": null,
      "metadata": {
        "id": "cwvVRuSj7GaM"
      },
      "outputs": [],
      "source": [
        "import numpy as np\n",
        "import idx2numpy\n",
        "\n",
        "# We implement a function to handle the ubyte to NumPy conversion for us.\n",
        "def load_ubyte_file(file_path):\n",
        "  return idx2numpy.convert_from_file(file_path)\n",
        "\n",
        "# Then, we start by converting the input images to NumPy arrays.\n",
        "X_train = load_ubyte_file(\"data/train/images-ubyte\")\n",
        "y_train = load_ubyte_file(\"data/train/labels-ubyte\")\n",
        "\n",
        "# After the images, we also convert the labels to NumPy format.\n",
        "X_val= load_ubyte_file(\"data/test/images-ubyte\")\n",
        "y_val = load_ubyte_file(\"data/test/labels-ubyte\")\n",
        "\n",
        "# To make sure that everything is correct and also to get an overview of the\n",
        "# dimensions of the data, we print out the shapes of each variable.\n",
        "print(\"X_train:\", X_train.shape, \"y_train:\", y_train.shape)\n",
        "print(\"X_val:\", X_val.shape, \"y_val:\", y_val.shape)\n"
      ]
    },
    {
      "cell_type": "code",
      "execution_count": null,
      "metadata": {
        "id": "3mCbCfqD9xYI"
      },
      "outputs": [],
      "source": [
        "# As an extra safety measure, we also visualize the first and second items\n",
        "# of the training dataset.\n",
        "import matplotlib.pyplot as plt\n",
        "\n",
        "plt.imshow(X_train[0], cmap=\"gray\")\n",
        "plt.title(y_train[0])\n",
        "plt.show()"
      ]
    },
    {
      "cell_type": "code",
      "execution_count": null,
      "metadata": {
        "id": "7pKOuRs4-F2Z"
      },
      "outputs": [],
      "source": [
        "plt.imshow(X_train[1], cmap=\"gray\")\n",
        "plt.title(y_train[1])\n",
        "plt.show()"
      ]
    },
    {
      "cell_type": "markdown",
      "metadata": {
        "id": "TyATFt69tfW2"
      },
      "source": [
        "Now, let us look at other details of the dataset, such as the data type and minimum and maximum values."
      ]
    },
    {
      "cell_type": "code",
      "execution_count": null,
      "metadata": {
        "id": "ib7Vbvup-RNH"
      },
      "outputs": [],
      "source": [
        "X_train.dtype"
      ]
    },
    {
      "cell_type": "code",
      "execution_count": null,
      "metadata": {
        "id": "rlCYe1Qc-WIO"
      },
      "outputs": [],
      "source": [
        "X_train.min()"
      ]
    },
    {
      "cell_type": "code",
      "execution_count": null,
      "metadata": {
        "id": "F2ozuf2v-YIm"
      },
      "outputs": [],
      "source": [
        "X_train.max()"
      ]
    },
    {
      "cell_type": "code",
      "execution_count": null,
      "metadata": {
        "id": "Sv5_zzrf-ZX2"
      },
      "outputs": [],
      "source": [
        "y_train.dtype"
      ]
    },
    {
      "cell_type": "code",
      "execution_count": null,
      "metadata": {
        "id": "ooFOTE_X-auI"
      },
      "outputs": [],
      "source": [
        "y_train.min()"
      ]
    },
    {
      "cell_type": "code",
      "execution_count": null,
      "metadata": {
        "id": "1x2-O6JV-dku"
      },
      "outputs": [],
      "source": [
        "y_train.max()"
      ]
    },
    {
      "cell_type": "markdown",
      "metadata": {
        "id": "Xar2mnQJDtwk"
      },
      "source": [
        "# Pre-processing the images & labels"
      ]
    },
    {
      "cell_type": "markdown",
      "metadata": {
        "id": "tCah9wVat7i9"
      },
      "source": [
        "Although everything looks great so far, there is still an additional transformation that we need to do. That is, we need to flatten the images (28 x 28 pixels) into a vector (784 elements in total). This is because we are going to use a simple feed-forward neural network, which can only receive vectors as its input. An example of the flatten operation can be seen in the picture below.\n",
        "\n",
        "\n",
        "![Cyprus_lab01.png](data:image/png;base64,iVBORw0KGgoAAAANSUhEUgAAAOwAAAFVCAYAAADsYQMdAAAAAXNSR0IArs4c6QAAIABJREFUeF7tnQu4ZFV5pl9ucokNDhdBoiYEGESdgAyOGQhBBvAWpYFOh0sAUWgJYYzQymVowEsyRNDGTCDaYwBJEB2CIumYQDIMICgJBgWZhEuQKEiQRi4JDCIDjXm+YlVTfTiXqvXv+mtX17ef5zw05+y1/299a7+11l61/rXXwocdWLMcuBZ4cx9V+ijwkT7O6/cUXevDfZx8HbBXH+dNe8patQVdzg601IGfAm2+r0P62lyxlt4PltVyB0JAJNQtpM/AJrSQQ6Q6EAIiQWlIn4FNaCGHSHUgBESC0pA+A5vQQg6R6kAIiASlIX0GNqGFHCLVgRAQCUpD+gxsQgs5RKoDISASlIb0GdiEFnKIVAdCQCQoDekzsAkt5BCpDoSASFAa0mdgE1rIIVIdCAGRoDSkz8AmtJBDpDoQAiJBaUifgU1oIYdIdSAERI/SfwccDzwHfBx4uqFahPQZ2IZawZdpjQMhIHpq8XvA/wME7grgEw3VMKTPwDbUCr5MaxwIAdFTi3uA1wCbARcC72iohiF9BrahVvBlWuNACIhSi3WA24DXAb3/bqKSIX0Gtokm8DXa5EAIiJ6KXA+8DXgV8DHgoIYqGdJnYBtqBV+mNQ6EgOipxXuADwHPAscBX2+ohiF9BrahVvBlWuNACIgptdikzA7/pMHahfQZ2AZbwpdqhQMhIBJqENJnYBNayCFSHQgBkaA0pM/AJrSQQ6Q6EAIiQWlIn4FNaCGHSHUgBESC0pA+A5vQQg6R6kAIiASlIX0GNqGFHCLVgRAQCUpD+gxsQgs5RKoDISASlIb0GdiEFnKIVAdqgVgIvBX4MnAlsAdwQFF+A/AVQAkB65ffnQ48WVGzWn2dUAa2wnEXabUDNUBsB+gVHycCAnE+8G7gceCHwJ3l5ypgWan9ZZUpdzX6VhluYFt971lchQM1QOwGbA4sB5YCVwNHApcADwDfAnYElgBfAG4EHqvQpiI1+gxspdku1n4HaoF4KXACsBNwSElavwV4fanypQVirSk+DXhLyZMd1JFafR4SD+q0zx8LB2qA2Aq4CPhk6V1V0QXA5YDWE38VOAZYWYbG2oFCvbB+Bj1q9LmHHdRlnz82DtQAIRgXA3eUWn4K2BPYoUwyXVDyY9XL3g6sBywqmTyDGlOjz8AO6rLPHxsHQkBMqeW8MhOsfZ10aM5Hv9NkVO0R0udJp1rbXa6tDoSASKhUSJ+BTWghh0h1IAREgtKQPgOb0EIOkepACIgEpSF9BjahhRwi1YEQEAlKQ/oMbEILOUSqAyEgEpSG9BnYhBZyiFQHQkAkKA3pM7AJLeQQqQ6EgEhQGtJnYBNayCFSHQgB0aPU79ZJbTYHm1QHmgLW79aZ1DvI9U51oClg/W6d1GZzsEl1oAlg/W6dSb17XO90B5oAVqL9bp30pnPASXSgKWD9bp1JvHtc53QHmgJWwv1unfTmc8BJc6BJYIfhXUifv4cdRpP4mqN0IAREgvCQPgOb0EIOkepACIgEpSF9BjahhRwi1YEQEAlKQ/oMbEILOUSqAyEgEpSG9BnYhBZyiFQHQkAkKA3pM7AJLeQQqQ6EgEhQGtJnYBNayCFSHQgBkaA0pM/AJrSQQ6Q6EAKiR6nT61KbzcEm1YGmgHV63aTeQa53qgNNAev0utRmc7BJdaAJYJ1eN6l3j+ud7kATwEq00+vSm84BJ9GBpoB1et0k3j2uc7oDTQEr4U6vS28+B5w0B5oEdhjehfT5e9hhNImvOUoHQkAkCA/pM7AJLeQQqQ6EgEhQGtJnYBNayCFSHQgBkaA0pM/AJrSQQ6Q6EAIiQWlIn4FNaCGHSHUgBESC0pA+A5vQQg6R6kAIiASlIX0GNqGFHCLVgRAQPUqdrZPabA42qQ40BayzdSb1DnK9Ux1oClhn66Q2m4NNqgNNAOtsnUm9e1zvdAeaAFaina2T3nQOOIkONAWss3Um8e5xndMdaApYCXe2TnrzOeCkOdAksMPwLqTP38MOo0l8zVE6EAIiQXhIn4FNaCGHSHUgBESC0pA+A5vQQg6R6kAIiASlIX0GNqGFHCLVgRAQCUpD+gxsQgs5RKoDISASlIb0GdiEFnKIVAdCQCQoDekzsAkt5BCpDoSASFAa0mdgE1rIIVIdCAHRo9TpdanN5mCT6kBTwDq9blLvINc71YGmgHV6XWqzOdikOtAEsE6vm9S7x/VOd6AJYCXa6XXpTeeAk+hAU8A6vW4S7x7XOd2BpoCVcKfXpTefA06aA00COwzvQvr8PewwmsTXHKUDISAShIf0GdiEFnKIVAdCQCQoDekzsAkt5BCpDoSASFAa0mdgE1rIIVIdCAGRoDSkz8AmtJBDpDoQAiJBaUifgU1oIYdIdSAERILSkD4Dm9BCDpHqQC0QC4G3Al8GrgT2AA4oym8AvgIoIWD98rvTgScralarrxPKwFY47iKtdqAGiO2Aa4ETAYE4H3g38DjwQ+DO8nMVsKzU/jLg6QonavStCiNgdQEf7XLAH6T17VEDxG7A5sByYClwNXAkcAnwAPAtYEdgCfAF4EbgsUqJNfpWB/anP22O2bXWWgtfr7IpNeRZq8Oqga23sBaIlwInADsBhwAfB24BXl+kXFog/jpwGvAWYEWFzFp9q4bEPzVgFbaXIsP4gDKw9e1RRoyDfuBtBVwEfLL0rhKwALi8rCf+KnAMsLIMjQWzemH9DHoY2EEcGwZgTX/gGdhBWvRF59YAIRgXA3eUq30K2BPYoUwyXQDcBqiXvR1YD1gEPFuhtEafh8QVRk9bZBgfAAY21DohIKZEnldmgp/rDqgA/U6TUbVHSF9n0qnpHsLXq21LP8PWO7eqZAiIBuLPdYmQvr6AffrppzuTIS95yUvmEtM5rxfYRx55hM0222zOcjOd0E8PFtE3XdxRX889bPXtooIhIEKR+ysc0jcrsM8++ywnnHACt9xyCytXrmSXXXbh3HPPZe21155RWhewa665hmOPPbZT5sknn+Too49mv/32Y++992aTTTZh3XXX7Vzj4osv5qabbmLRokXstJMm6ODAAw/k4IMP7vx7NmAj+qarQFuuZ2D7u/NnOCsERChyf4VD+mYF9sYbb+T444/nm9/8ZkfKDjvswIUXXsjuu+8+J7B77bUXS5YsYZ999uH666/vAHnXXXex7bbbcvfdd3d64XXW0V5XcP755/PMM890zumC3A0wG7ARfdNVoC3XM7D93fkGdooDn//85/nGN77BZz7zmc5f9t9/fxYsWMDhhx8+J7BPPPEEG220UQfKxYsX89RTT3HmmWey6aabMm/evE4ve+qpp3Z64ZNOOolly5ahMgsXLuSss85im222mbOHjeibrgJtuZ6BNbAzOTBrD/vpT3+aO+64ozMM1nHUUUehnvOwww6bE1idsGLFCo477rhOj7p8+fIOvEuXLuWMM87gvvvuY+edd+b+++/niiuuYOutt2bfffftwKvzujFn62Gj+qZWoi3XM7AGtgrY6667jnPOOacDmw49gwq2XXfddU5gBaTgPuKIIzj55JPZYIMN0DOihsLrraevsZ6/3qGHHsr8+fPZcMMNO7+7+eabOeigg7jnHu3jPPszbETfdBVoy/UMrIGtAlYzvBqa3nvvvTz66KO84Q1v4Ac/+EFnODvjBcss8SGHHMIb3/jGznC4e1x99dV84AMf4NZbb+0Mf3fccUe+/e1vdwB9//vf3/nv2Wefzfe//33U280FbETfdPrbcj0D2wpgW/tunVm/hz3llFM68Aiw8847rzPEne3oDmG33HJLHnrooVWnvvzlL+fBBx/kgAMO6Ayz1du+733v6/S+Avk973lP55l3++2370D72te+dk5gdUKtvpnq0IbrGdhWANvad+vMuXDi4Ycf7nwHu/HGG8/pZD/fm6on6/1qRxfV10bqxbfYYovVYvRzvab1jfp6BnbO22y2E0Jfm/RcuLXv1pkT2EHs6wcwX29mB5ytM8jdMe25TQDb6nfrGNjAPTKMDyj3sIEGaW6lU2vfrWNgA/eHgQ2YN5yiTfSwUtbad+sY2MCNY2AD5g2naFPASl0r361jYAM3joENmDecok0COwyFIX3e02kYTRK/5qA7JsQjrjlXCAGRYENIX1/pdYNUYhg9zqTl13rSaZA77kXnhoAIRe6vcEifge3P5BnPGsYHlIENNUoIiFDk/gqH9BnY/kw2sEGfEouHgEjQGdJnYIMt5B42aGDzxUNANC+n2SG7gQ22kIENGth8cQMb2ePIezrBoP75GTZE8eQCG9njyHs60clIqtkTy8C2AtjxS6+L7HHkPZ2g1j8D2wpgxy+9LrLHkfd0glr/DGwrgB2/9LroHkfe06luTywDO3JgxzO9LrLHkfd0glr/EoHVG9v2Av4W2L68RjFESwsKNzXpNH7pdZE9jrynE9T6lwis9q/doLwT9c+AbWcA7nXAbwLvB7RlpnbR+1wL4JxOQlPAjmd6Xe0eR97T6fl7qca/JGD1lvGLgR8B2mha/xaw2iVeEy7aGFpvGdcuet8BfhH4RHkzuba4PBC4F/gsoDeY6+XHem/qO4G9AW2t+UrgJOCLiXA3Bawkj2d6XdN7HHlPp5lv38QtYtYvr0/8Y+0uC1xXgNVrHs4u7z79Wnmtojbz+gjw9vLSY5XV/wvEvynn/hFwHqD3uPwBsEeBVsCrh846mgR2GJpD+rzSKdgkY77SSe87VQ+p96LeUIDdvDzX6t2o6h31NnL1wup11XN+sAyjzwF+DBwL/P/yN72G8SbgTeX33VczZqYLhoAI3g79FA/pM7D9WDzLOWsYsBraqrf9LnAl8F7grBmA1RvL7y9D5q5DdwJbAtqjVrBvVN6vamBfuIcM7CDMDQOwpvN1k55hZdvUHnY34MEC2qYFSD2TqodVj/rLpYfV7PJHy7PtkcCtwMeAB4CnDOysd6SBNbCDOLDaudMNib8E7FjOuhsQuAcA3wPOLD3w5eV3Alcg6/gJ8CvAuwysga2+I6cWdA/bl5WvAPTahpWA1tQ+BuiFvppQ0vOqZon1X/1dv3818H3gub6uPtyTQj3YcKV1rh7S5z2dElqoIkTmM1+FvFYXCQGRULOQPk86BVtoGD124jNssPatLB4CoqdG45etU9Mcw7iBm57Uafv1DGzNnbeqTFPAjl+2To1tBrbGtRfKJC6ciAltb+mmgB2/bJ2aNjGwNa4Z2Jhrq5VuAtjxzNapMdHA1rhmYGOuNQ6sLjh+2TpdGwbdk6j3GdF7Ok30nk5ab6yj+98GuZzxUk30sLr4+GXr1O5JJGC9p5P3dCpICSAdWhmVAW5TwErzeGXr1O5JJGC9p5P3dOrpXT/c0x8OG9wmgR3GiCCkb9bvYWv3JBKw3tPJezr13O3dXrYXgGGBGwJiGIROuWZI36zAek+nozojhcMO0yYL0x+zTbLV+tfw97Aahvb2cAn35EAhtEWNcnGbOkJANCViluuE9M0KbO2eROphvafTWOzplHB/dkLcAuw8JZh72Ar3ZwW2dk8iAes9ncZiT6eKW2bgIm8GvgK8LGnyKdSDDVy7wQuE9M25lrhmTyIB6z2dnm/JGv8aHhIPfks1W6Lbuw6rR52qNgREs1Wf9mohfXMCq5De02nmZuxnocig/q1BwKp31U/G1zndRgoBsUYAO0gl+rmBfb3ZPwDWIGAHaeqmzjWwgzhpYAdx68XnevF/zL9ognhPdKfX1TTFJH4AuIetuVNWlWmqh3V6XU0zGNga1ya6TFPAOr2u5jYysDWuTXSZJoBtd3rdRDdvOyvvPZ3q26UJYBV9fNPrBvFuEnvEprec8TPsIHfci85tCtjxS6+rsc3A1rj2QhnPEsf8a3CWWELGK72uxjoDW+OagY25tlrppnrYBiU1p6+vlU6DKDewg7j14nPdw8b8a7iHDYuZ5gKhDxQDG2ySYXxA+Rk21CghIEKR+ysc0tcXsN7TaeaW6AfYQf0zsP3d+TOcFQIiFLm/wiF9swLrPZ124dxzz2XttfVKmemP2YCt9c/A9nfnG9gpDnhPpx248MIL2X333auArfXPwBrYGTsIPaTP9D2i93TanwULFnD44YdXAVvrn4E1sFXA1u5J1P0AWLFiBccddxx33303y5cvZ5111mHp0qWcccYZnS1kdt55Z+6//36uuOIKtt56a/bdd19OOumkznkaiuoYxp5JM31ARes71eTa6xnYkQC7EHgr8OXy9vk9yjtwJeaGsmuGEgLWL+pOL2+XH1Ts8J5hvafTfp0Pl1133bWqh631z8AOysBq59cAsR1wLXAiIBDnA+8GHgd+CNxZfq4ClpVolwFPVyit0bcqjPd06nE8sofVdA1Xez0DW4HBC0VqgNgN2BxYDiwFrgaOBC4BHgC+Vd5KvwT4AnBjecl1jdAaff0Bq7Nq9iTynk4vtGONfwa2hoNVZWqBeClwArATcAjw8bLb4+vLlS8tEH8dOA14C7CiQmmtvucfEWebdOqKGXRPorkWw6vn2WSTTVh33XVX1XflypU8+uijbLHFFqt50M/3nE3rG/X1DGwFBrEedivgIuCTpXfV1RYAl5f1xF8FjgFWlqGxYFYvrJ9Bj+EDO4iifgDz9WZ2wEsTB7k7pj23BgjBuBi4o1zxU8CewA5lkukC4DZAveztwHrAIuDZCrU1+vofEg8qyMAO6tjq5xvYmH8NryWeV2aCnyuqNCLV7zQZVXsY2EGcG4cPFA+JB2nRF50bAiIUub/CIX19PcP2p+P5s8YBiLmesUddXwM7SAsY2JBbBjZkX+cDz8CGPAz1YKHI/RUO6ev0sP3F8VmJDnhPp3qzQ0DUh+27ZEifh8R9+zz9icMYUbiHDTVKCIhQ5P4Kh/QZ2P5MnvEsAxs0sPniISCal9PsM7aBDbaQgQ0a2HxxAzuIp8O4gds+q9u0Pg+JB7njmu3Beq7md+vUNMMkfgAY2Jo7ZVWZpnrY8X23zqB7EvX2OFo3vNlmm1W3QD/ARvRNJ2zU1zOw1beLCjYF7Pi9W6d2TyIBe80113Dssceyyy678OSTT3L00Uez3377sffee6+28P/iiy/mpptuYtGiRey0kxIl4MADD+Tggw/u/HsYeybNNISN1He6W6z2egZ25MC2+906M93AtXsS6Xp77bUXS5YsYZ999uH666/vAHnXXXex7bbbdnag0DnaWULH+eefzzPPPNM5pzeDZy5gI/qmuyXacj0DO3JgJWD83q1TuyeRYHziiSfYaKONOlAuXryYp556ijPPPJNNN92UefPmdXrZU089tdMLa1uYZcuWdcosXLiQs846i2222WbOHjaib7pboi3XM7CtAHb83q1TuyeR93R6/oar9c/AtgJYiRivd+vU7kkkYLXJmobFRxxxBCeffDIbbLABeqbT39ZbT+mEdJ5pDz30UObPn8+GG27Y+d3NN9/MQQcdxD336Jl/9mfYiL7pbom2XM/AtgbYkJAZCocmxbynU4+rtXswzTQHUHs9AxviJAREKHJ/hUP65lzpVLMnkfd0eqHlavwzsP3d+cPowUKR+ys8XGCloek9jryn08wt6/S6/u76Wc4KARGOPvcFQvrm7GHnjr/6Gf0sdBjkmpN4Pfewg9whLzo3BEQocn+FQ/oMbH8mz3jWMD5QDGyoUUJAhCL3Vzikz8D2Z7KBDfqUWDwERILOkD4DG2wh97BBA5svHgKieTnNDtkNbLCFDGzQwOaLNwVse9PrmvfMVww64D2d6g1sCtjWptfVW+OSdqB9DjQFbGvT69pnuRXZgXoHmgC21el19da4pB1onwNNAKtatTa9rn2WW5EdqHegKWBbm15Xb41L2oH2OdAUsKpZK9Pr2me5FdmBegeaBLZexcwlQ/r89cEwmsTXHKUDISAShIf0GdiEFnKIVAdCQCQoDekzsAkt5BCpDoSASFAa0mdgE1rIIVIdCAGRoDSkz8AmtJBDpDoQAiJBaUifgU1oIYdIdSAERILSkL42A3sKsF2PgXcASysN3R9455Syi/wy60o3210sBERP1VqbrdNW+1cA5wIPFYEPAF+tFHsBoPWhN/aU/2zltVys3Q40BayzdQZo542AJwFtVvyTWcqdDbwK+I2yrcoXtbUxoN/3Hl8HTgOuG0CDTx1PB5oC1tk6A7T/jsDtwF8UIP8EuAh4ZMo1dgDuBLTuc33gE4B+98Mp5z1eele9/0O9tHrXuwbQ41PHx4EmgHW2zoDt/asFrA8BjwJ6nv1X4JeA56ZcS387tfzuOODiKX9/GfAYsAy4BjgKeCvwSuCfB9Tl09vvQBPAqpbO1hmgrfUuj58B/qWUeRtwJbA98N0p1+kOn+8HXj3NRJIm1jbt6Z01maAPAfXK6rV9rFkONAWss3UGuC/UkwraG0qZ1wF/D7wc+NGU6xwPfAyYB/wa8OUpf/8FYBfgS+X3Gu6oxz0MWD6AJp86Hg40Baxq62ydPtv8XQUmfa0juPR1zs8Cb5lSftvS4x4KvAb4TUDPv+pBu8dW5ZlWb4j+CvC+MvusHvzHferxaePjQJPADqPWIX1t/R52bUAzvr9eHNNXOwdM+VpGf/rr0hP/F2CD0gtfCxw9xWk9C59RemH96Zgy8TSMBvE1R+tACIgE6SF9bQW265uGJJsB9wHPBs3UEFvD43vn+KooGMbFR+xACIgE7SF9bQc2wT+HWMMcCAGR4EVIn4FNaCGHSHUgBESC0pA+A5vQQg6R6kAIiASlIX0GNqGFHCLVgRAQCUpD+gxsQgs5RKoDISB6lDpbZ45m+wjw88CRqc3rYGuaA00B62ydOe4MLczXAn4t5vdhB2odaApYZ+vM0QJalK9VSVrVpIXXlwDvBZ4oSw+1tlMLJLSAX79/qiw51ML/PYC/A87qWc54ILCknHc58CbgoKJBvfgJwEuBzwO/08D3vLU3mMs160ATwDpbp482+SigXlbLC5ULq/Q6DZN/C3gz8Ecl3e4KQMsMLy0pcspx1d/0u7cDry+LLbTm+CTgYeDjJbd243LOXwK/DWgXi8+V8lqP7GP8HWgCWLngbJ057oWpwO4D/B/gcED5sIJNva0W7H8T+N0CqeBTI80vqXVKeteWMFrc390W5oPAh8s1VF5LHbvLF9Vbn1zyaMf/dnUNmgLW2ToDAttNpVtYelpl7Oj4U+AfAAGu3lcgKovnn8rSQwH7h6VnFYg6NGRWMrygV+L6v5+iRR8E+puP8XegKWDlhLN1ZrkfpvawWvf7PWAmYPXsqdzYdxeIBeF3ytD3HGDznuQBpd1dWKD8G+Br5blYcjR9r2fnb43/veoalNFWm7+uDH2gtKligwKrhPabStqdto7Rhm3aCVFpcwtKL6vEd/W86l3VY6sX1QSTsoDeUYbY2i5GE1iH+HZfIxwIAZHgQEhf24D9uTLM1aTTbD2sktkF3p8D2k5Gx+8Dyou9uvS6mj3WljEaLv8V8AZgS0BbxijJXTPOOjS7rB5YGUE+xt+BEBAJ1Q/paxOwtV5p10QlrAty5cTqR2C+AtBuiTJIE1fdXlVxVG99OOh733/0/sS11reyXAiIhBqF9K0JwE7nsb4e0lBYM8n6Wke9rZLYp27QltA+DpHsQAiIBK0hfWsqsPL9jeU7V23SpsUW2p3Cx5rvQAiIBHtC+tZkYBO8d4gWOhACIqE+IX0GNqGFHCLVgRAQCUpD+gxsQgs5RKoDtUDo+35tMK9vEPSVoRbbaOM/HdpuVztuKoNHE5U6Ti8TnYNWrlZfJ46BHdRun992B2qA0Ha62m3zxAKilrlqQY5e8aLXviiDTD9XlTdIyIPLgKcrzKjRtyqMga1w3EVa7UANELuVlXFaZ65sMX2Xr4wuZYzprYlaBaf9rpX99YWy3a72y645avQZ2BqnXWYsHKgFQqmWSrncqax6U4bXLSX7SxVXdpgg7r4JUZva65Wogx61+jwkHtRpnz8WDtQAobXkes/SJ0vvqopqeavyqJUAoDceavP5lWVoLJjVC+tn0KNGn3vYQV32+WPjQA0QgnFxyY9WRT8F7FlSLjXJpBeC31Z6WeVpa1N6rVuv2dy+Rp+BHZvbz0IHdSAExJRgesGalrx2X3GqOR/9TpNRtUdInyedam13ubY6EAIioVIhfQY2oYUcItWBEBAJSkP6DGxCCzlEqgMhIBKUhvQZ2IQWcohUB0JAJCgN6TOwCS3kEKkOhIBIUBrSZ2ATWsghUh0IAZGgNKTPwCa0kEOkOhACIkFpSJ+BTWghh0h1IAREj1K/DCu12RxsUh1oCli/DGtS7yDXO9WBpoD1y7BSm83BJtWBJoD1y7Am9e5xvdMdaAJYifbLsNKbzgEn0YGmgPXLsCbx7nGd0x1oClgJ98uw0pvPASfNgSaBHYZ3IX3+HnYYTeJrjtKBEBAJwkP6DGxCCzlEqgMhIBKUhvQZ2IQWcohUB0JAJCgN6TOwCS3kEKkOhIBIUBrSZ2ATWsghUh0IAZGgNKTPwCa0kEOkOhACIkFpSJ+BTWghh0h1IAREgtKQPgOb0EIOkepACIgepU6vS202B5tUB5oC1ul1k3oHud6pDjQFrNPrUpvNwSbVgSaAdXrdpN49rne6A00AK9FOr0tvOgecRAeaAtbpdZN497jO6Q40BayEO70uvfkccNIcaBLYYXgX0ufvYYfRJL7mKB0IAZEgPKTPwCa0kEOkOhACIkFpSJ+BTWghh0h1IAREgtKQPgOb0EIOkepACIgEpSF9BjahhRwi1YEQEAlKQ/oMbEILOUSqAyEgEpSG9BnYhBZyiFQHQkD0KHW2TmqzOdikOtAUsM7WmdQ7yPVOdaApYJ2tk9psDjapDjQBrLN1JvXucb3THWgCWIl2tk560zngJDrQFLDO1pnEu8d1TnegKWAl3Nk66c3ngJPmQJPADsO7kD5/DzuMJvE1R+lACIgE4SF9BjahhRz259CNAAAIN0lEQVQi1YEQEAlKQ/oMbEILOUSqAyEgEpSG9BnYhBZyiFQHQkAkKA3pM7AJLeQQqQ6EgEhQGtJnYBNayCFSHQgBkaA0pM/AJrSQQ6Q6EAIiQWlIn4FNaCGHSHXgWuDNfUT8KPCRPs7r9xRd68N9nHwdsFcf5017ioGtdc7l7MAIHDCwIzDdIe1ArQMGttY5l7MDI3DAwI7AdIe0A7UOGNha51zODozAAQM7AtMd0g7UOmBga51zOTswAgcM7AhMd0g7UOuAga11zuXswAgcMLAjMN0h7UCtAwa21jmXswMjcMDAjsB0h7QDgNjT/sfPDuKGgR3ELZ+7JjmwPvAbwP8CfjzEiu0DXAJsCfwc8J+AywD9/nPAqwaJbWAHccvnrkkObAo8Avws8MAQK6aXau0A/C3wLuD3gW0N7BAd96Vb48AZwMuAxUXR60ov9RZgA+B/lNS67wAnA7eU834N+O+l7KXAScCV5dzbCjybA58G/iNwJ3AC8A3gDcAS4CbgMGCnHjdOBdRTK61uR+CPgf8KfBNYBLwa+DNA530QuBr4BeDLwLLS814AHA48BBwD3Dyb2+5hW3MvWkgfDhwAXA78TBnGng7sC+xZgPoX4Gxgb+AUQL3bK4H/C/w2cHeB+ncKIH8FHFhAur2cdybwVuADwHald9RrO/4R+ARwfo9OgaY8WPWYAvSzJe5ZwFXAFcB3C5jblGseD7wdUA//v4GvABeWD4i158qVNbB93CU+pTUObAQ8Cbyj9JD/AJwD3Fp6JkHx/TKh8yDwW8CuwO7Ar5Ra6NlRPZ9g6g6Jf7Fcb2PgiXLe46XHu7+8Z2f7Al+vGfow+AHwivJBoR7/h+VD4GngNeUZtfsMO3VILGBfWuokiNX7S8OMh4Ftzb1oIX06oImanxRQ1ettVnrUP52m/LGlx9Jw8/1T/t77DCuQ1AMLuO7xdeBLwLeAv5gFpLuAE4E/LB8Qy8sHhODThFLvpNNUYLsgK+YvAzeUDxsD2+fN4NPa78DbyrPiUuCXSm+mZ1gNb7fq6SFfC9wLCNpdgP1L1d5Yhslf6+lhNfT9ahlCryzQ/CugWPrqZTZgP1nAVA+p52v1sNoGRr23evjZgO2dJTaw7b/3rLDCgfUKDPMATSZpAkcTRj8qPd0flOdaAfh6YEPgmvLcqMmkvwbOLUPix8o56qkFmHpKTQLpuVg9pHrh/zwHsIJaE1jq4Q8C/qRMIunZWM+nvcD+anle1cy09p0ysBU3gIuMnwMCTrOx3ckn1UCw6DvV7qGZ2d8DNJEjCI8sf/hz4NfLsFrDXj3fCiBNaJ1Xemh9GBxV4FLP95ezDIn1DKrn3uPKLPN7SzwN1R+dAuzWZeZak2M638CO371nxQ06IIA18fTPgHrP3kMAabgrWHoPzSR3z9WQVhNJ/zTExRTrll6/O7k1UPU96TSQXT7ZDozWAQM7Wv8d3Q4M5ICBHcgun2wHRuuAgR2t/45uBwZywMAOZJdPtgOjdcDAjtZ/R5/bgS2A/1YW3WtNr7660eoiHVovrEUP3eMOQAsq+j301Y8W7WtN8KgOfZ2kBIR7+hFgYPtxyeeM0gEtDdRXIVp4rxVLyqLpfse5oiyC0NJDHUqT04KJfg9l4WhFlPJiR3Uos+h3S47snBoM7JwW+YQROvByQFB2c1a1TFDfmWrdr1YWKRFAK5m0tni2Q0njWkKovFQtYRT0WtnUC6yWNU6Xnqeyp5U1xUcDf1dyWpXVo4QAraxS6p6OmeIobU510HfEWkapD6F3l3ro2koweE/5vbJ/DgYeLiMILfRYdRjYEd6NDj2nA1pFpEyaG8uZyn7RsFc5qc8ASonTOl8tsteSwIsKiL0X1k4PytzR6igt5lcurDJilL3TBVZ5rsp3nS49T9k+yqrREkgtV9RqKH2QKE1OhxLSFV96ZoqjV1sql1d5s9KsRAH96HpaRaU8WuXiajWWljJKl5Y8qudVnq8yfzqHgZ3znvEJLXGguyZXPdw7Aa3L1fD3Q2UJoJ5ntWBfCQHP9WgWWEoeV0qdXqasXlZripUSp+WHGhIrRU+J49Ol5+maAra7DFLLHHUNLVnUsketnlI+robrM8XpZg11U/zUO2u7GA3Fe4fEglj61fsqdVDLJr/du+rKwLbkbrSMGR3Q86uGqsp80SSRnmW1cZmSAARRd6lhdxH+1LzV7rrjqQH+AzC/AKvc2JnS87oJ6Oqpdeh6iq9htQ7lzSoTSJNHWt88XZyF5QNDw14d2g3jTSXTqBdYLYvUpJpA1fLIT5UefdU1DaxJabsDyhlV1o0W7Hdnh6VZPZGgVQ6pDuWy/n0Zripzp3todwntINF9K7vK6HrqqZWdox5WQ9KZ0vM0/O5dpC9gNfztblPTBVZvVZ8pjoa4eobVM/BswErX98qkmj5M9HwsfXoM6BwGtu2362Tr07BRO0gsKEPErhuaFdaQVMni+lpHE1H6OkdQaFKn9+jmymrY2oVUmTI6Vz2dgNB2MDOl52no3A+wGgkI+uniaCubmYDVBJS2lvmfJeVPX/HoQ0YZQ5oY01C7uzeVgZ1sHlpfe4GqiaKph4DTJmZfLD2v/i6INSztTlD1lhHM3R5R5x1ScmR7v4edKT1v6nak0/Ww6g2vLR8a08XRpNNUYJVIr3xePc/qe2aNIDQzrNzdbiaPhundXtk9bOtvVwvsx4FNyhDyvjk25dYCDD2H6pl0pq+BZkvP60eLzuknztRrKVFek1uawNIM9s+XhRT62mq1w0PifpvB59mBFjhgYFvQCJZgB/p1wMD265TPswMtcODfAPrz6ZFmT8XxAAAAAElFTkSuQmCC)\n",
        "\n",
        "Apart from the flattening of the images, we will also normalize the pixel values so that after the transformation, each pixel can only have a value between 0 and 1 (instead of the original [0,255] range)."
      ]
    },
    {
      "cell_type": "code",
      "execution_count": null,
      "metadata": {
        "id": "d_ydnccL-qAD"
      },
      "outputs": [],
      "source": [
        "X_train = X_train.reshape(60000, 784)\n",
        "X_val = X_val.reshape(10000, 784)"
      ]
    },
    {
      "cell_type": "code",
      "execution_count": null,
      "metadata": {
        "id": "x4nyJlR3-vsU"
      },
      "outputs": [],
      "source": [
        "X_train = X_train / 255\n",
        "X_val = X_val / 255"
      ]
    },
    {
      "cell_type": "code",
      "execution_count": null,
      "metadata": {
        "id": "urt357Nn-0z1"
      },
      "outputs": [],
      "source": [
        "# Notice that after the transformation the type of the inputs will change from integer to float.\n",
        "X_train.dtype"
      ]
    },
    {
      "cell_type": "code",
      "execution_count": null,
      "metadata": {
        "id": "G1NIi6PW-1hj"
      },
      "outputs": [],
      "source": [
        "X_train.min()"
      ]
    },
    {
      "cell_type": "code",
      "execution_count": null,
      "metadata": {
        "id": "nPpj_S4M-2Tt"
      },
      "outputs": [],
      "source": [
        "X_train.max()"
      ]
    },
    {
      "cell_type": "markdown",
      "metadata": {
        "id": "FZ38FL5Vw_Ss"
      },
      "source": [
        "We will also need to transform the class labels as well. That is because we will use the categorical crossentropy loss function when training the neural network, which requires that the output labels are one-hot encoded.\n",
        "\n",
        "This means that we will need to transform each class label (0 to 9) to a vector with 10 elements (the number of classes), where each element will be either 0 or 1. The given element will be 1 if the given column corresponds to the class label (e.g. 1st column for the number 0 and 6th column for the number 5) and 0 otherwise."
      ]
    },
    {
      "cell_type": "code",
      "execution_count": null,
      "metadata": {
        "id": "LRv1XvgB-6ln"
      },
      "outputs": [],
      "source": [
        "import tensorflow.keras as keras\n",
        "\n",
        "# We set the random seed to 0\n",
        "keras.utils.set_random_seed(0)\n",
        "\n",
        "n_classes = 10\n",
        "\n",
        "# We apply one-hot encoding using the to_categorical Keras function.\n",
        "y_train = keras.utils.to_categorical(y_train, n_classes)\n",
        "y_val = keras.utils.to_categorical(y_val, n_classes)"
      ]
    },
    {
      "cell_type": "code",
      "execution_count": null,
      "metadata": {
        "id": "X-rqsVp5_Dyv"
      },
      "outputs": [],
      "source": [
        "# We can see that after the transformation, each row has been transformed.\n",
        "# Notice how the first element, which was previously 5, is now all zeroes\n",
        "# except for the 6th column. The same logic is true for the other rows as\n",
        "# well.\n",
        "y_train[0:5]"
      ]
    },
    {
      "cell_type": "markdown",
      "metadata": {
        "id": "eXeaL96SD1pj"
      },
      "source": [
        "# Building the network"
      ]
    },
    {
      "cell_type": "markdown",
      "metadata": {
        "id": "da892rf8Gm1T"
      },
      "source": [
        "Now, we can finally start building our neural network. For this, we will use the Sequential class of the keras library, which makes building neural networks really easy."
      ]
    },
    {
      "cell_type": "code",
      "execution_count": null,
      "metadata": {
        "id": "w86NTs5hHRfV"
      },
      "outputs": [],
      "source": [
        "from tensorflow.keras.models import Sequential\n",
        "from tensorflow.keras.layers import Dense\n",
        "\n",
        "# The neural network will have 2 hidden layers in total, each with 512-512\n",
        "# neurons.\n",
        "model = Sequential([\n",
        "    Dense(units=128, activation=\"relu\", input_shape=(784,)),\n",
        "    Dense(units = 64, activation=\"relu\"),\n",
        "    Dense(units = n_classes, activation=\"softmax\")\n",
        "])\n",
        "\n",
        "# Lastly, we also need to compile the model, which is the same as saying\n",
        "# that we specify the loss and metric used during training.\n",
        "model.compile(loss=\"categorical_crossentropy\", metrics=[\"accuracy\"])"
      ]
    },
    {
      "cell_type": "code",
      "execution_count": null,
      "metadata": {
        "id": "j_8udGrFHk6E"
      },
      "outputs": [],
      "source": [
        "# We can now print the summary of the model, which tells us how many\n",
        "# layers there are in the model and how many neurons each one has.\n",
        "model.summary()"
      ]
    },
    {
      "cell_type": "code",
      "execution_count": null,
      "metadata": {
        "id": "l4P3REh5_dx5"
      },
      "outputs": [],
      "source": [
        "# We can now train the model using the .fit() function.\n",
        "history = model.fit(\n",
        "    X_train, y_train, epochs=5, verbose=1, validation_data=(X_val, y_val)\n",
        ")"
      ]
    },
    {
      "cell_type": "code",
      "execution_count": null,
      "metadata": {
        "id": "Jf8ISaCzIaI8"
      },
      "outputs": [],
      "source": [
        "# After the training is done, it is time to check the training and validation\n",
        "# losses. Both seem to have decreased over the epochs, which is a good sign.\n",
        "plt.plot(history.history[\"loss\"], \"*-\")\n",
        "plt.plot(history.history[\"val_loss\"], \"*-\")\n",
        "plt.legend([\"Training Loss\", \"Validation Loss\"])\n",
        "plt.show()"
      ]
    },
    {
      "cell_type": "code",
      "execution_count": null,
      "metadata": {
        "id": "cFuYnwbdAfoN"
      },
      "outputs": [],
      "source": [
        "# If we check the accuracies, we will see a similar trend:\n",
        "# both the training and validation accuracies have increased\n",
        "# during training.\n",
        "plt.plot(history.history[\"accuracy\"], \"*-\")\n",
        "plt.plot(history.history[\"val_accuracy\"], \"*-\")\n",
        "plt.legend([\"Training Accuracy\", \"Validation Accuracy\"])\n",
        "plt.show()"
      ]
    }
  ],
  "metadata": {
    "accelerator": "GPU",
    "colab": {
      "gpuType": "T4",
      "provenance": []
    },
    "kernelspec": {
      "display_name": "Python 3",
      "name": "python3"
    },
    "language_info": {
      "name": "python"
    }
  },
  "nbformat": 4,
  "nbformat_minor": 0
}
