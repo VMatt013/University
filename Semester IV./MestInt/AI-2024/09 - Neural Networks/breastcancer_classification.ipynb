{
  "cells": [
    {
      "cell_type": "code",
      "execution_count": 1,
      "metadata": {},
      "outputs": [],
      "source": [
        "from sklearn import datasets as ds\n",
        "import matplotlib.pyplot as plt \n",
        "from sklearn.model_selection import train_test_split\n",
        "from sklearn.preprocessing import StandardScaler\n",
        "\n",
        "# Step 1 - Load dataset\n",
        "iris = ds.load_breast_cancer()\n",
        "\n",
        "TOTAL_SIZE = len(iris.data)\n",
        "TRAIN_SIZE = int(TOTAL_SIZE * 0.8)\n",
        "VAL_SIZE = int(TOTAL_SIZE * 0.1)\n",
        "TEST_SIZE = int(TOTAL_SIZE * 0.1)\n",
        "\n",
        "#print(TOTAL_SIZE)\n",
        "#print(TRAIN_SIZE)\n",
        "#print(VAL_SIZE)\n",
        "#print(TEST_SIZE)\n",
        "\n",
        "# Step 2 - Split dataset into training, validation, and test splits\n",
        "X_todo, X_test, y_todo, y_test = train_test_split(iris.data, iris.target, test_size=TEST_SIZE, random_state=0)\n",
        "X_train, X_val, y_train, y_val = train_test_split(X_todo, y_todo, test_size=VAL_SIZE, random_state=0)"
      ]
    },
    {
      "cell_type": "code",
      "execution_count": 2,
      "metadata": {
        "id": "cwvVRuSj7GaM"
      },
      "outputs": [
        {
          "name": "stdout",
          "output_type": "stream",
          "text": [
            "X_train: (457, 30) y_train: (457,)\n",
            "X_val: (56, 30) y_val: (56,)\n",
            "X_test: (56, 30) y_val: (56,)\n"
          ]
        }
      ],
      "source": [
        "# To make sure that everything is correct and also to get an overview of the\n",
        "# dimensions of the data, we print out the shapes of each variable.\n",
        "print(\"X_train:\", X_train.shape, \"y_train:\", y_train.shape)\n",
        "print(\"X_val:\", X_val.shape, \"y_val:\", y_val.shape)\n",
        "print(\"X_test:\", X_test.shape, \"y_val:\", y_test.shape)\n"
      ]
    },
    {
      "cell_type": "markdown",
      "metadata": {
        "id": "TyATFt69tfW2"
      },
      "source": [
        "Now, let us look at other details of the dataset, such as the data type and minimum and maximum values."
      ]
    },
    {
      "cell_type": "code",
      "execution_count": 3,
      "metadata": {
        "id": "ib7Vbvup-RNH"
      },
      "outputs": [
        {
          "data": {
            "text/plain": [
              "dtype('float64')"
            ]
          },
          "execution_count": 3,
          "metadata": {},
          "output_type": "execute_result"
        }
      ],
      "source": [
        "X_train.dtype"
      ]
    },
    {
      "cell_type": "code",
      "execution_count": 4,
      "metadata": {
        "id": "rlCYe1Qc-WIO"
      },
      "outputs": [
        {
          "data": {
            "text/plain": [
              "0.0"
            ]
          },
          "execution_count": 4,
          "metadata": {},
          "output_type": "execute_result"
        }
      ],
      "source": [
        "X_train.min()"
      ]
    },
    {
      "cell_type": "code",
      "execution_count": 5,
      "metadata": {
        "id": "F2ozuf2v-YIm"
      },
      "outputs": [
        {
          "data": {
            "text/plain": [
              "4254.0"
            ]
          },
          "execution_count": 5,
          "metadata": {},
          "output_type": "execute_result"
        }
      ],
      "source": [
        "X_train.max()"
      ]
    },
    {
      "cell_type": "code",
      "execution_count": 6,
      "metadata": {
        "id": "Sv5_zzrf-ZX2"
      },
      "outputs": [
        {
          "data": {
            "text/plain": [
              "dtype('int64')"
            ]
          },
          "execution_count": 6,
          "metadata": {},
          "output_type": "execute_result"
        }
      ],
      "source": [
        "y_train.dtype"
      ]
    },
    {
      "cell_type": "code",
      "execution_count": 7,
      "metadata": {
        "id": "ooFOTE_X-auI"
      },
      "outputs": [
        {
          "data": {
            "text/plain": [
              "0"
            ]
          },
          "execution_count": 7,
          "metadata": {},
          "output_type": "execute_result"
        }
      ],
      "source": [
        "y_train.min()"
      ]
    },
    {
      "cell_type": "code",
      "execution_count": 8,
      "metadata": {
        "id": "1x2-O6JV-dku"
      },
      "outputs": [
        {
          "data": {
            "text/plain": [
              "1"
            ]
          },
          "execution_count": 8,
          "metadata": {},
          "output_type": "execute_result"
        }
      ],
      "source": [
        "y_train.max()"
      ]
    },
    {
      "cell_type": "code",
      "execution_count": 9,
      "metadata": {},
      "outputs": [
        {
          "data": {
            "text/plain": [
              "array([1.429e+01, 1.682e+01, 9.030e+01, 6.326e+02, 6.429e-02, 2.675e-02,\n",
              "       7.250e-03, 6.250e-03, 1.508e-01, 5.376e-02, 1.302e-01, 7.198e-01,\n",
              "       8.439e-01, 1.077e+01, 3.492e-03, 3.710e-03, 4.826e-03, 3.608e-03,\n",
              "       1.536e-02, 1.381e-03, 1.491e+01, 2.065e+01, 9.444e+01, 6.846e+02,\n",
              "       8.567e-02, 5.036e-02, 3.866e-02, 3.333e-02, 2.458e-01, 6.120e-02])"
            ]
          },
          "execution_count": 9,
          "metadata": {},
          "output_type": "execute_result"
        }
      ],
      "source": [
        "X_train[0]"
      ]
    },
    {
      "cell_type": "code",
      "execution_count": 10,
      "metadata": {},
      "outputs": [
        {
          "data": {
            "text/plain": [
              "1"
            ]
          },
          "execution_count": 10,
          "metadata": {},
          "output_type": "execute_result"
        }
      ],
      "source": [
        "y_train[0]"
      ]
    },
    {
      "cell_type": "code",
      "execution_count": 11,
      "metadata": {},
      "outputs": [],
      "source": [
        "# Step 3 - Scale the input features\n",
        "scaler = StandardScaler()\n",
        "X_train = scaler.fit_transform(X_train)\n",
        "X_val = scaler.transform(X_val)\n",
        "X_test = scaler.transform(X_test)"
      ]
    },
    {
      "cell_type": "code",
      "execution_count": 12,
      "metadata": {
        "id": "urt357Nn-0z1"
      },
      "outputs": [
        {
          "data": {
            "text/plain": [
              "dtype('float64')"
            ]
          },
          "execution_count": 12,
          "metadata": {},
          "output_type": "execute_result"
        }
      ],
      "source": [
        "# Notice that after the transformation the type of the inputs will change from integer to float.\n",
        "X_train.dtype"
      ]
    },
    {
      "cell_type": "code",
      "execution_count": 13,
      "metadata": {
        "id": "G1NIi6PW-1hj"
      },
      "outputs": [
        {
          "data": {
            "text/plain": [
              "-3.072910804514224"
            ]
          },
          "execution_count": 13,
          "metadata": {},
          "output_type": "execute_result"
        }
      ],
      "source": [
        "X_train.min()"
      ]
    },
    {
      "cell_type": "code",
      "execution_count": 14,
      "metadata": {
        "id": "nPpj_S4M-2Tt"
      },
      "outputs": [
        {
          "data": {
            "text/plain": [
              "11.389593336632979"
            ]
          },
          "execution_count": 14,
          "metadata": {},
          "output_type": "execute_result"
        }
      ],
      "source": [
        "X_train.max()"
      ]
    },
    {
      "cell_type": "code",
      "execution_count": 15,
      "metadata": {
        "id": "LRv1XvgB-6ln"
      },
      "outputs": [],
      "source": [
        "import tensorflow.keras as keras\n",
        "\n",
        "# We set the random seed to 0\n",
        "keras.utils.set_random_seed(0)\n",
        "\n",
        "n_classes = 2\n",
        "\n",
        "# We apply one-hot encoding using the to_categorical Keras function.\n",
        "y_train = keras.utils.to_categorical(y_train, n_classes)\n",
        "y_val = keras.utils.to_categorical(y_val, n_classes)\n",
        "y_test = keras.utils.to_categorical(y_test, n_classes)"
      ]
    },
    {
      "cell_type": "code",
      "execution_count": 16,
      "metadata": {
        "id": "X-rqsVp5_Dyv"
      },
      "outputs": [
        {
          "data": {
            "text/plain": [
              "array([[0., 1.],\n",
              "       [0., 1.],\n",
              "       [0., 1.],\n",
              "       [1., 0.],\n",
              "       [0., 1.]], dtype=float32)"
            ]
          },
          "execution_count": 16,
          "metadata": {},
          "output_type": "execute_result"
        }
      ],
      "source": [
        "# We can see that after the transformation, each row has been transformed.\n",
        "# Notice how the first element, which was previously 5, is now all zeroes\n",
        "# except for the 6th column. The same logic is true for the other rows as\n",
        "# well.\n",
        "y_train[0:5]"
      ]
    },
    {
      "cell_type": "code",
      "execution_count": 17,
      "metadata": {},
      "outputs": [
        {
          "data": {
            "text/plain": [
              "array([[0., 1.],\n",
              "       [0., 1.],\n",
              "       [1., 0.],\n",
              "       [0., 1.],\n",
              "       [1., 0.]], dtype=float32)"
            ]
          },
          "execution_count": 17,
          "metadata": {},
          "output_type": "execute_result"
        }
      ],
      "source": [
        "y_val[0:5]"
      ]
    },
    {
      "cell_type": "markdown",
      "metadata": {
        "id": "eXeaL96SD1pj"
      },
      "source": [
        "# Building the network"
      ]
    },
    {
      "cell_type": "markdown",
      "metadata": {
        "id": "da892rf8Gm1T"
      },
      "source": [
        "Now, we can finally start building our neural network. For this, we will use the Sequential class of the keras library, which makes building neural networks really easy."
      ]
    },
    {
      "cell_type": "code",
      "execution_count": 25,
      "metadata": {
        "id": "w86NTs5hHRfV"
      },
      "outputs": [
        {
          "name": "stderr",
          "output_type": "stream",
          "text": [
            "WARNING:absl:At this time, the v2.11+ optimizer `tf.keras.optimizers.Adam` runs slowly on M1/M2 Macs, please use the legacy Keras optimizer instead, located at `tf.keras.optimizers.legacy.Adam`.\n"
          ]
        }
      ],
      "source": [
        "from tensorflow.keras.models import Sequential\n",
        "from tensorflow.keras.layers import Dense, Dropout\n",
        "\n",
        "# The neural network will have 2 hidden layers in total, each with 512-512\n",
        "# neurons.\n",
        "model = Sequential([\n",
        "    Dense(units=16, activation=\"relu\", input_shape=(30,)),\n",
        "    #Dropout(0.5),\n",
        "    Dense(units = 16, activation=\"relu\"),\n",
        "    Dense(units = n_classes, activation=\"softmax\")\n",
        "])\n",
        "\n",
        "# Lastly, we also need to compile the model, which is the same as saying\n",
        "# that we specify the loss and metric used during training.\n",
        "model.compile(optimizer=keras.optimizers.Adam(learning_rate=0.0003), loss=\"categorical_crossentropy\", metrics=[\"accuracy\"])"
      ]
    },
    {
      "cell_type": "code",
      "execution_count": 19,
      "metadata": {
        "id": "j_8udGrFHk6E"
      },
      "outputs": [
        {
          "name": "stdout",
          "output_type": "stream",
          "text": [
            "Model: \"sequential\"\n",
            "_________________________________________________________________\n",
            " Layer (type)                Output Shape              Param #   \n",
            "=================================================================\n",
            " dense (Dense)               (None, 16)                496       \n",
            "                                                                 \n",
            " dense_1 (Dense)             (None, 16)                272       \n",
            "                                                                 \n",
            " dense_2 (Dense)             (None, 2)                 34        \n",
            "                                                                 \n",
            "=================================================================\n",
            "Total params: 802 (3.13 KB)\n",
            "Trainable params: 802 (3.13 KB)\n",
            "Non-trainable params: 0 (0.00 Byte)\n",
            "_________________________________________________________________\n"
          ]
        }
      ],
      "source": [
        "# We can now print the summary of the model, which tells us how many\n",
        "# layers there are in the model and how many neurons each one has.\n",
        "model.summary()"
      ]
    },
    {
      "cell_type": "code",
      "execution_count": 26,
      "metadata": {
        "id": "l4P3REh5_dx5"
      },
      "outputs": [
        {
          "name": "stdout",
          "output_type": "stream",
          "text": [
            "Epoch 1/10\n",
            "15/15 [==============================] - 0s 5ms/step - loss: 0.9401 - accuracy: 0.2582 - val_loss: 0.9306 - val_accuracy: 0.2500\n",
            "Epoch 2/10\n",
            "15/15 [==============================] - 0s 1ms/step - loss: 0.8374 - accuracy: 0.3348 - val_loss: 0.8270 - val_accuracy: 0.3571\n",
            "Epoch 3/10\n",
            "15/15 [==============================] - 0s 1ms/step - loss: 0.7439 - accuracy: 0.4333 - val_loss: 0.7286 - val_accuracy: 0.5357\n",
            "Epoch 4/10\n",
            "15/15 [==============================] - 0s 1ms/step - loss: 0.6638 - accuracy: 0.5514 - val_loss: 0.6434 - val_accuracy: 0.6964\n",
            "Epoch 5/10\n",
            "15/15 [==============================] - 0s 1ms/step - loss: 0.5964 - accuracy: 0.6674 - val_loss: 0.5714 - val_accuracy: 0.7679\n",
            "Epoch 6/10\n",
            "15/15 [==============================] - 0s 1ms/step - loss: 0.5394 - accuracy: 0.7724 - val_loss: 0.5137 - val_accuracy: 0.8571\n",
            "Epoch 7/10\n",
            "15/15 [==============================] - 0s 1ms/step - loss: 0.4927 - accuracy: 0.8206 - val_loss: 0.4652 - val_accuracy: 0.8750\n",
            "Epoch 8/10\n",
            "15/15 [==============================] - 0s 1ms/step - loss: 0.4528 - accuracy: 0.8556 - val_loss: 0.4265 - val_accuracy: 0.8750\n",
            "Epoch 9/10\n",
            "15/15 [==============================] - 0s 1ms/step - loss: 0.4197 - accuracy: 0.8818 - val_loss: 0.3923 - val_accuracy: 0.8929\n",
            "Epoch 10/10\n",
            "15/15 [==============================] - 0s 1ms/step - loss: 0.3903 - accuracy: 0.8950 - val_loss: 0.3622 - val_accuracy: 0.9107\n"
          ]
        }
      ],
      "source": [
        "# We can now train the model using the .fit() function.\n",
        "history = model.fit(\n",
        "    X_train, y_train, epochs=10, verbose=1, validation_data=(X_val, y_val), batch_size=32\n",
        ")"
      ]
    },
    {
      "cell_type": "markdown",
      "metadata": {},
      "source": []
    },
    {
      "cell_type": "code",
      "execution_count": 27,
      "metadata": {
        "id": "Jf8ISaCzIaI8"
      },
      "outputs": [
        {
          "data": {
            "image/png": "[encoded data removed]",
            "text/plain": [
              "<Figure size 640x480 with 1 Axes>"
            ]
          },
          "metadata": {},
          "output_type": "display_data"
        }
      ],
      "source": [
        "# After the training is done, it is time to check the training and validation\n",
        "# losses. Both seem to have decreased over the epochs, which is a good sign.\n",
        "plt.plot(history.history[\"loss\"], \"*-\")\n",
        "plt.plot(history.history[\"val_loss\"], \"*-\")\n",
        "plt.legend([\"Training Loss\", \"Validation Loss\"])\n",
        "plt.show()"
      ]
    },
    {
      "cell_type": "code",
      "execution_count": 28,
      "metadata": {
        "id": "cFuYnwbdAfoN"
      },
      "outputs": [
        {
          "data": {
            "image/png": "[encoded data removed]",
            "text/plain": [
              "<Figure size 640x480 with 1 Axes>"
            ]
          },
          "metadata": {},
          "output_type": "display_data"
        }
      ],
      "source": [
        "# If we check the accuracies, we will see a similar trend:\n",
        "# both the training and validation accuracies have increased\n",
        "# during training.\n",
        "plt.plot(history.history[\"accuracy\"], \"*-\")\n",
        "plt.plot(history.history[\"val_accuracy\"], \"*-\")\n",
        "plt.legend([\"Training Accuracy\", \"Validation Accuracy\"])\n",
        "plt.show()"
      ]
    }
  ],
  "metadata": {
    "accelerator": "GPU",
    "colab": {
      "gpuType": "T4",
      "provenance": []
    },
    "kernelspec": {
      "display_name": "Python 3",
      "name": "python3"
    },
    "language_info": {
      "codemirror_mode": {
        "name": "ipython",
        "version": 3
      },
      "file_extension": ".py",
      "mimetype": "text/x-python",
      "name": "python",
      "nbconvert_exporter": "python",
      "pygments_lexer": "ipython3",
      "version": "3.11.3"
    }
  },
  "nbformat": 4,
  "nbformat_minor": 0
}
